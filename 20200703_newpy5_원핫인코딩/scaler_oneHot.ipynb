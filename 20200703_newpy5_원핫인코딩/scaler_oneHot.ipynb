{
 "cells": [
  {
   "cell_type": "code",
   "execution_count": 2,
   "metadata": {},
   "outputs": [],
   "source": [
    "import numpy as np\n",
    "data=np.random.randint(30, size=(6,5))"
   ]
  },
  {
   "cell_type": "code",
   "execution_count": 3,
   "metadata": {},
   "outputs": [
    {
     "data": {
      "text/plain": [
       "array([[ 9, 10,  7,  9, 15],\n",
       "       [27, 16,  9,  7,  6],\n",
       "       [17,  7,  2, 17,  7],\n",
       "       [ 7,  6, 29, 17, 27],\n",
       "       [23,  9, 25, 29, 10],\n",
       "       [ 8, 10,  7, 25, 29]])"
      ]
     },
     "execution_count": 3,
     "metadata": {},
     "output_type": "execute_result"
    }
   ],
   "source": [
    "data #numpy의 기본형 array이다."
   ]
  },
  {
   "cell_type": "code",
   "execution_count": 18,
   "metadata": {},
   "outputs": [],
   "source": [
    "from numpy import*\n",
    "mean(data)\n",
    "mean(data, axis=0) #컬럼 단위\n",
    "mean(data, axis=1) #행 단위\n",
    "\n",
    "# 표준화 datas\n",
    "datas=(data-mean(data, axis=0))/std(data, axis=0) #std=표준편차"
   ]
  },
  {
   "cell_type": "code",
   "execution_count": 21,
   "metadata": {},
   "outputs": [
    {
     "data": {
      "text/plain": [
       "array([1., 1., 1., 1., 1.])"
      ]
     },
     "execution_count": 21,
     "metadata": {},
     "output_type": "execute_result"
    }
   ],
   "source": [
    "mean(datas)\n",
    "datas\n",
    "mean(datas, axis=0)\n",
    "std(datas) #1\n",
    "std(datas, axis=0)\n",
    "#np.mean(array), np.std(array), np.var(array)"
   ]
  },
  {
   "cell_type": "code",
   "execution_count": 47,
   "metadata": {
    "scrolled": true
   },
   "outputs": [
    {
     "data": {
      "text/plain": [
       "1.1842378929335003e-16"
      ]
     },
     "execution_count": 47,
     "metadata": {},
     "output_type": "execute_result"
    }
   ],
   "source": [
    "datas.mean() #16만큼 0... 0의 수렴하는 값을 뜻함."
   ]
  },
  {
   "cell_type": "code",
   "execution_count": 22,
   "metadata": {},
   "outputs": [],
   "source": [
    "import scipy.stats as ss"
   ]
  },
  {
   "cell_type": "code",
   "execution_count": 24,
   "metadata": {},
   "outputs": [
    {
     "data": {
      "text/plain": [
       "array([[-0.79519341,  0.10425721, -0.61217683, -1.059284  , -0.07249994],\n",
       "       [ 1.52591168,  1.98088693, -0.41363299, -1.31351216, -1.05124918],\n",
       "       [ 0.23640885, -0.83405766, -1.10853642, -0.04237136, -0.94249926],\n",
       "       [-1.05309398, -1.14682928,  1.57180537, -0.04237136,  1.23249904],\n",
       "       [ 1.01011055, -0.20851441,  1.1747177 ,  1.4829976 , -0.61624952],\n",
       "       [-0.9241437 ,  0.10425721, -0.61217683,  0.97454128,  1.44999887]])"
      ]
     },
     "execution_count": 24,
     "metadata": {},
     "output_type": "execute_result"
    }
   ],
   "source": [
    "datas"
   ]
  },
  {
   "cell_type": "code",
   "execution_count": 23,
   "metadata": {},
   "outputs": [
    {
     "data": {
      "text/plain": [
       "array([[-0.79519341,  0.10425721, -0.61217683, -1.059284  , -0.07249994],\n",
       "       [ 1.52591168,  1.98088693, -0.41363299, -1.31351216, -1.05124918],\n",
       "       [ 0.23640885, -0.83405766, -1.10853642, -0.04237136, -0.94249926],\n",
       "       [-1.05309398, -1.14682928,  1.57180537, -0.04237136,  1.23249904],\n",
       "       [ 1.01011055, -0.20851441,  1.1747177 ,  1.4829976 , -0.61624952],\n",
       "       [-0.9241437 ,  0.10425721, -0.61217683,  0.97454128,  1.44999887]])"
      ]
     },
     "execution_count": 23,
     "metadata": {},
     "output_type": "execute_result"
    }
   ],
   "source": [
    "ss.zscore(data) #표준화를 한줄에 끝내는 함수 "
   ]
  },
  {
   "cell_type": "code",
   "execution_count": 26,
   "metadata": {},
   "outputs": [
    {
     "data": {
      "text/plain": [
       "array([[-0.79519341,  0.10425721, -0.61217683, -1.059284  , -0.07249994],\n",
       "       [ 1.52591168,  1.98088693, -0.41363299, -1.31351216, -1.05124918],\n",
       "       [ 0.23640885, -0.83405766, -1.10853642, -0.04237136, -0.94249926],\n",
       "       [-1.05309398, -1.14682928,  1.57180537, -0.04237136,  1.23249904],\n",
       "       [ 1.01011055, -0.20851441,  1.1747177 ,  1.4829976 , -0.61624952],\n",
       "       [-0.9241437 ,  0.10425721, -0.61217683,  0.97454128,  1.44999887]])"
      ]
     },
     "execution_count": 26,
     "metadata": {},
     "output_type": "execute_result"
    }
   ],
   "source": [
    "from sklearn.preprocessing import StandardScaler \n",
    "StandardScaler().fit_transform(data) #표준화 함수"
   ]
  },
  {
   "cell_type": "markdown",
   "metadata": {},
   "source": [
    "#집 값 예측을 위한 회귀 모델\n",
    "#아파트 집 값 = w1*평수 + w2*층 - w3*역거리 + bias\n",
    "#아파트 집 값 data -> 회귀모델(아파트 집 값 = w1*평수 + w2*층 - w3*역거리 + bias)\n",
    "#아파트 집 값 = 1000*v평수 + 100*층 - 1000*역거리\n",
    "#아파트 집 값 = 1200*v평수 + 200*층 - 1000*역거리\n",
    "\n",
    "#모델링의 정의: 가중치의 변화를 주면서 가장 작은 오차를 찾는 것.\n",
    "\n",
    "#이상치(outlier)는 평균에 크게 영향을 주기 때문에 데이터에 이상치가 포함된 경우, 제거 후 표준화를 하는 것이 좋다.\n",
    "#이상치에 평균보다 덜 민감한 중앙값을 사용, IQR을 이용한 표준화를 한다. \n",
    "1) x-maen / std (이상치 제거 추천) StandScaler\n",
    "2) x-median / IQR (이상치 제거 안하는 경우 추천) RobustScaler\n",
    "#IQR = 전체의75%(Q3)-25%(Q1)한 값\n",
    "#RMSE\n",
    "\n",
    "평수(50) 층(10) 역까지 거리(km) 실제가격 예측가격  오차\n",
    "20       3      1               3억      1억8천7백 1억1천3백\n",
    "50       10     1               4억      5억       1억\n",
    "...      ...    ...  "
   ]
  },
  {
   "cell_type": "code",
   "execution_count": 28,
   "metadata": {},
   "outputs": [],
   "source": [
    "from sklearn.preprocessing import RobustScaler"
   ]
  },
  {
   "cell_type": "code",
   "execution_count": 33,
   "metadata": {},
   "outputs": [
    {
     "data": {
      "text/plain": [
       "2.2551934849630273"
      ]
     },
     "execution_count": 33,
     "metadata": {},
     "output_type": "execute_result"
    }
   ],
   "source": [
    "mu,sigma=10,2 #평균10, 표준편차2인 정규분포를 따르는 난수 생성\n",
    "x=mu+sigma*np.random.randn(100)\n",
    "x\n",
    "x.mean()\n",
    "x.std()#x의 표준편차"
   ]
  },
  {
   "cell_type": "code",
   "execution_count": 35,
   "metadata": {},
   "outputs": [
    {
     "data": {
      "text/plain": [
       "(array([ 7., 12., 14., 10., 18., 14., 12.,  8.,  1.,  4.]),\n",
       " array([ 5.70632444,  6.67992004,  7.65351565,  8.62711125,  9.60070686,\n",
       "        10.57430246, 11.54789807, 12.52149367, 13.49508928, 14.46868488,\n",
       "        15.44228049]),\n",
       " <a list of 10 Patch objects>)"
      ]
     },
     "execution_count": 35,
     "metadata": {},
     "output_type": "execute_result"
    },
    {
     "data": {
      "image/png": "[encoded data removed]",
      "text/plain": [
       "<Figure size 432x288 with 1 Axes>"
      ]
     },
     "metadata": {
      "needs_background": "light"
     },
     "output_type": "display_data"
    }
   ],
   "source": [
    "import matplotlib.pyplot as plt\n",
    "plt.hist(x) #종 모양의 보인다...? "
   ]
  },
  {
   "cell_type": "code",
   "execution_count": 36,
   "metadata": {},
   "outputs": [],
   "source": [
    "#np.random.randn(10) #randn: 표준정규분포를 따르는 난수 10개 생성"
   ]
  },
  {
   "cell_type": "code",
   "execution_count": 44,
   "metadata": {},
   "outputs": [
    {
     "data": {
      "text/plain": [
       "(array([ 0.,  0.,  3., 21., 21., 34., 15.,  4.,  0.,  0.,  0.,  0.,  0.,\n",
       "         0.,  0.,  0.,  0.,  0.,  0.,  0.,  0.,  0.,  0.,  0.,  0.,  0.,\n",
       "         0.,  0.,  0.,  0.,  0.,  0.,  0.,  0.,  0.,  0.,  0.,  0.,  0.,\n",
       "         0.,  0.,  0.,  0.,  0.,  0.,  0.,  0.,  0.,  0.,  2.]),\n",
       " array([  0,   2,   4,   6,   8,  10,  12,  14,  16,  18,  20,  22,  24,\n",
       "         26,  28,  30,  32,  34,  36,  38,  40,  42,  44,  46,  48,  50,\n",
       "         52,  54,  56,  58,  60,  62,  64,  66,  68,  70,  72,  74,  76,\n",
       "         78,  80,  82,  84,  86,  88,  90,  92,  94,  96,  98, 100]),\n",
       " <a list of 50 Patch objects>)"
      ]
     },
     "execution_count": 44,
     "metadata": {},
     "output_type": "execute_result"
    },
    {
     "data": {
      "image/png": "[encoded data removed]",
      "text/plain": [
       "<Figure size 432x288 with 1 Axes>"
      ]
     },
     "metadata": {
      "needs_background": "light"
     },
     "output_type": "display_data"
    }
   ],
   "source": [
    "x[98:100]=100\n",
    "x #outlier를 임의적으로 100을 집어 넣음.\n",
    "plt.hist(x, bins=np.arange(0,102,2)) #bins: var의 x의 간격 2씩 증가. index는 0부터 101까지."
   ]
  },
  {
   "cell_type": "code",
   "execution_count": 49,
   "metadata": {},
   "outputs": [
    {
     "data": {
      "text/plain": [
       "(100, 1)"
      ]
     },
     "execution_count": 49,
     "metadata": {},
     "output_type": "execute_result"
    }
   ],
   "source": [
    "x.mean() #평균이 이상치의 영향을 크게 받음.\n",
    "x.std()\n",
    "x.shape\n",
    "x=x.reshape(-1,1) #2차원으로 다시 설정.\n",
    "x.shape"
   ]
  },
  {
   "cell_type": "code",
   "execution_count": 60,
   "metadata": {},
   "outputs": [
    {
     "data": {
      "text/plain": [
       "(array([ 0.,  0.,  0.,  0.,  0.,  0.,  0.,  0.,  0.,  0.,  0.,  0.,  7.,\n",
       "        29., 41., 17.,  4.,  0.,  0.,  0.,  0.,  0.,  0.,  0.,  0.,  0.,\n",
       "         0.,  0.,  0.]),\n",
       " array([-3.00000000e+00, -2.80000000e+00, -2.60000000e+00, -2.40000000e+00,\n",
       "        -2.20000000e+00, -2.00000000e+00, -1.80000000e+00, -1.60000000e+00,\n",
       "        -1.40000000e+00, -1.20000000e+00, -1.00000000e+00, -8.00000000e-01,\n",
       "        -6.00000000e-01, -4.00000000e-01, -2.00000000e-01,  2.66453526e-15,\n",
       "         2.00000000e-01,  4.00000000e-01,  6.00000000e-01,  8.00000000e-01,\n",
       "         1.00000000e+00,  1.20000000e+00,  1.40000000e+00,  1.60000000e+00,\n",
       "         1.80000000e+00,  2.00000000e+00,  2.20000000e+00,  2.40000000e+00,\n",
       "         2.60000000e+00,  2.80000000e+00]),\n",
       " <a list of 29 Patch objects>)"
      ]
     },
     "execution_count": 60,
     "metadata": {},
     "output_type": "execute_result"
    },
    {
     "data": {
      "image/png": "[encoded data removed]",
      "text/plain": [
       "<Figure size 432x288 with 1 Axes>"
      ]
     },
     "metadata": {
      "needs_background": "light"
     },
     "output_type": "display_data"
    }
   ],
   "source": [
    "np.mean(StandardScaler().fit_transform(x)) #mean:0\n",
    "np.std(StandardScaler().fit_transform(x)) #std:1\n",
    "xs = StandardScaler().fit_transform(x) #맨 밑의 2개값의 주의 0의 가까운 수가 나와야하는데, 그렇지않음.\n",
    "# plt.hist(xs) #이상치가 보임.\n",
    "xss=xs[xs<5]\n",
    "plt.hist(xss,bins=np.arange(-3,3,0.2))"
   ]
  },
  {
   "cell_type": "code",
   "execution_count": 66,
   "metadata": {},
   "outputs": [
    {
     "data": {
      "text/plain": [
       "array([3.5014623])"
      ]
     },
     "execution_count": 66,
     "metadata": {},
     "output_type": "execute_result"
    }
   ],
   "source": [
    "#이상치 -> 중앙값, iqr 표준화\n",
    "np.median(x) #9.8\n",
    "q1=np.percentile(x, 25, axis=0) #x 오름차순 정렬을 했을 때, 25% 지점에 있는 데이터를 추출하는 함수 (1사분위수)\n",
    "q1\n",
    "q3=np.percentile(x, 75, axis=0)#(3사분위수)\n",
    "q3\n",
    "iqr=q3-q1\n",
    "iqr #3.50"
   ]
  },
  {
   "cell_type": "code",
   "execution_count": 75,
   "metadata": {},
   "outputs": [
    {
     "name": "stdout",
     "output_type": "stream",
     "text": [
      "(array([ 0.,  0.,  0.,  0.,  0.,  0.,  0.,  0.,  3.,  7.,  4., 11., 10.,\n",
      "        6.,  9., 14., 10.,  8.,  7.,  5.,  0.,  3.,  1.,  0.,  0.,  0.,\n",
      "        0.,  0.,  0.]), array([-3.00000000e+00, -2.80000000e+00, -2.60000000e+00, -2.40000000e+00,\n",
      "       -2.20000000e+00, -2.00000000e+00, -1.80000000e+00, -1.60000000e+00,\n",
      "       -1.40000000e+00, -1.20000000e+00, -1.00000000e+00, -8.00000000e-01,\n",
      "       -6.00000000e-01, -4.00000000e-01, -2.00000000e-01,  2.66453526e-15,\n",
      "        2.00000000e-01,  4.00000000e-01,  6.00000000e-01,  8.00000000e-01,\n",
      "        1.00000000e+00,  1.20000000e+00,  1.40000000e+00,  1.60000000e+00,\n",
      "        1.80000000e+00,  2.00000000e+00,  2.20000000e+00,  2.40000000e+00,\n",
      "        2.60000000e+00,  2.80000000e+00]), <a list of 29 Patch objects>)\n"
     ]
    },
    {
     "data": {
      "image/png": "[encoded data removed]",
      "text/plain": [
       "<Figure size 432x288 with 1 Axes>"
      ]
     },
     "metadata": {
      "needs_background": "light"
     },
     "output_type": "display_data"
    }
   ],
   "source": [
    "xr=RobustScaler().fit_transform(x)\n",
    "xr[-10:]\n",
    "np.median(xr) #0, 중위수가 0이 나옴.\n",
    "np.mean(xr) #0.43\n",
    "np.std(xr) #3.6\n",
    "xrs=xr[xr<5]\n",
    "\n",
    "#어느 데이터가 더 넓게 퍼져있는가? 비교 =>(결과: RobustScaler를 추천.)\n",
    "print(plt.hist(xrs, bins=np.arange(-3,3,0.2))) # 더 넓게 퍼져있음. y데이터를 설명하는데 더 용이. (산포가 좋음.)\n",
    "#print(plt.hist(xss,bins=np.arange(-3,3,0.2))) # x-mean / std (xss 데이터)"
   ]
  },
  {
   "cell_type": "code",
   "execution_count": 81,
   "metadata": {},
   "outputs": [
    {
     "data": {
      "text/plain": [
       "array([[0.02937709],\n",
       "       [0.03021757],\n",
       "       [0.09433122],\n",
       "       [0.02104226],\n",
       "       [0.06540892],\n",
       "       [0.05889185],\n",
       "       [0.05500024],\n",
       "       [0.00512483],\n",
       "       [0.08466136],\n",
       "       [0.02804965],\n",
       "       [0.04199348],\n",
       "       [0.05601604],\n",
       "       [0.03588323],\n",
       "       [0.03286424],\n",
       "       [0.04841758],\n",
       "       [0.05068863],\n",
       "       [0.02015354],\n",
       "       [0.00761653],\n",
       "       [0.05816613],\n",
       "       [0.00885125],\n",
       "       [0.01437688],\n",
       "       [0.06339186],\n",
       "       [0.05590747],\n",
       "       [0.03756753],\n",
       "       [0.06216815],\n",
       "       [0.06414852],\n",
       "       [0.07916966],\n",
       "       [0.03879809],\n",
       "       [0.06002645],\n",
       "       [0.05536909],\n",
       "       [0.05323821],\n",
       "       [0.02002292],\n",
       "       [0.06582055],\n",
       "       [0.10325142],\n",
       "       [0.05571729],\n",
       "       [0.0120687 ],\n",
       "       [0.05811111],\n",
       "       [0.02751336],\n",
       "       [0.03184269],\n",
       "       [0.06886525],\n",
       "       [0.04073166],\n",
       "       [0.04947022],\n",
       "       [0.0269786 ],\n",
       "       [0.02409623],\n",
       "       [0.05852683],\n",
       "       [0.02473257],\n",
       "       [0.04880927],\n",
       "       [0.04663908],\n",
       "       [0.01837636],\n",
       "       [0.04051175],\n",
       "       [0.00954889],\n",
       "       [0.02118737],\n",
       "       [0.05306942],\n",
       "       [0.01067893],\n",
       "       [0.0750052 ],\n",
       "       [0.01872462],\n",
       "       [0.07232025],\n",
       "       [0.02395098],\n",
       "       [0.01079056],\n",
       "       [0.07111707],\n",
       "       [0.        ],\n",
       "       [0.07436207],\n",
       "       [0.0456619 ],\n",
       "       [0.04260314],\n",
       "       [0.06402713],\n",
       "       [0.05061544],\n",
       "       [0.04797199],\n",
       "       [0.04770838],\n",
       "       [0.03146343],\n",
       "       [0.0679862 ],\n",
       "       [0.07054031],\n",
       "       [0.08174143],\n",
       "       [0.04733826],\n",
       "       [0.05001898],\n",
       "       [0.07127892],\n",
       "       [0.01925765],\n",
       "       [0.03902738],\n",
       "       [0.0696229 ],\n",
       "       [0.01083874],\n",
       "       [0.0185659 ],\n",
       "       [0.07889361],\n",
       "       [0.02998049],\n",
       "       [0.04261662],\n",
       "       [0.09980186],\n",
       "       [0.00187828],\n",
       "       [0.04529768],\n",
       "       [0.02971891],\n",
       "       [0.01547014],\n",
       "       [0.05457359],\n",
       "       [0.04956204],\n",
       "       [0.09653606],\n",
       "       [0.05058889],\n",
       "       [0.00148104],\n",
       "       [0.07423053],\n",
       "       [0.07968968],\n",
       "       [0.02085183],\n",
       "       [0.05666278],\n",
       "       [0.04902295],\n",
       "       [1.        ],\n",
       "       [1.        ]])"
      ]
     },
     "execution_count": 81,
     "metadata": {},
     "output_type": "execute_result"
    }
   ],
   "source": [
    "# (x-x.min()) / (x.max() - x.min()) #min max scaler\n",
    "from sklearn.preprocessing import MinMaxScaler\n",
    "\n",
    "#0~1사이의 수로 변환하는 MInMaxScaler.\n",
    "MinMaxScaler().fit_transform(x) #(x-x.min()) / (x.max() - x.min())와 같음. 짱편~ 함수 외우기!"
   ]
  },
  {
   "cell_type": "code",
   "execution_count": 87,
   "metadata": {},
   "outputs": [
    {
     "data": {
      "text/plain": [
       "array([[1, 0, 1],\n",
       "       [1, 0, 1],\n",
       "       [0, 1, 1]])"
      ]
     },
     "execution_count": 87,
     "metadata": {},
     "output_type": "execute_result"
    }
   ],
   "source": [
    "#연속형 변수를 이항 변수화(0 아니면 1로 나누겠다.)\n",
    "from sklearn.preprocessing import Binarizer #이항변수화 시키는 클래스\n",
    "x=np.array([[10,-10,1],[5,0,3],[0,7,5]])\n",
    "x #0보다 크면 1, 작거나 같으면 0 : 이항변수화\n",
    "bi=Binarizer().fit(x) #Binarzier 객체 생성, threshold ((인계값=기준값을 의미), 기준값이 0으로 설정되어있음.)\n",
    "bi.transform(x)"
   ]
  },
  {
   "cell_type": "code",
   "execution_count": 92,
   "metadata": {},
   "outputs": [
    {
     "data": {
      "text/plain": [
       "array([[1, 0, 0],\n",
       "       [1, 0, 0],\n",
       "       [0, 1, 1]])"
      ]
     },
     "execution_count": 92,
     "metadata": {},
     "output_type": "execute_result"
    }
   ],
   "source": [
    "bi=Binarizer(threshold=4).fit(x) #4를 기준으로 이항변수화\n",
    "bi.transform(x)"
   ]
  },
  {
   "cell_type": "markdown",
   "metadata": {},
   "source": [
    "#원핫(1)인코더: 범주형 변수 -> 이항변수화 (엄청많이쓰임!!!)\n",
    "\n",
    "#순서가 없는 범주형.\n",
    "#범주형 변수를 이항변수화 설명\n",
    "범주형 변수는 원핫인코딩(이항변수화) 되어있어야 함!\n",
    "why? 모델을 만들 수 없기 때문에\n",
    "\n",
    "#예시\n",
    "\n",
    "(성별)\n",
    "남 0 -> 1 0\n",
    "여 1 -> 0 1\n",
    "\n",
    "(연령대) 4개의 종류이므로 4자리로 변환\n",
    "20대 1000\n",
    "30대 0100\n",
    "40대 0010\n",
    "10대 0001"
   ]
  },
  {
   "cell_type": "code",
   "execution_count": 93,
   "metadata": {},
   "outputs": [],
   "source": [
    "from sklearn.preprocessing import OneHotEncoder"
   ]
  },
  {
   "cell_type": "code",
   "execution_count": 98,
   "metadata": {},
   "outputs": [
    {
     "data": {
      "text/plain": [
       "OneHotEncoder(categories='auto', drop=None, dtype=<class 'numpy.float64'>,\n",
       "              handle_unknown='error', sparse=True)"
      ]
     },
     "execution_count": 98,
     "metadata": {},
     "output_type": "execute_result"
    }
   ],
   "source": [
    "#[성별(0~1), 연령대(0~2), 등급(0~4)]\n",
    "data = np.array([[0,0,0], #101001000 총 9자리 남자 20대 1등급\n",
    "                [0,1,1], \n",
    "                [0,2,2],\n",
    "                [1,0,3],\n",
    "                [1,1,4]])\n",
    "\n",
    "# OneHotEncoder().fit(data) #변수이름이 없음.\n",
    "ohe=OneHotEncoder() #일반적으로 변수 사용함. \n",
    "ohe.fit(data)"
   ]
  },
  {
   "cell_type": "code",
   "execution_count": 103,
   "metadata": {},
   "outputs": [],
   "source": [
    "import pandas as pd"
   ]
  },
  {
   "cell_type": "code",
   "execution_count": 106,
   "metadata": {},
   "outputs": [
    {
     "data": {
      "text/html": [
       "<div>\n",
       "<style scoped>\n",
       "    .dataframe tbody tr th:only-of-type {\n",
       "        vertical-align: middle;\n",
       "    }\n",
       "\n",
       "    .dataframe tbody tr th {\n",
       "        vertical-align: top;\n",
       "    }\n",
       "\n",
       "    .dataframe thead th {\n",
       "        text-align: right;\n",
       "    }\n",
       "</style>\n",
       "<table border=\"1\" class=\"dataframe\">\n",
       "  <thead>\n",
       "    <tr style=\"text-align: right;\">\n",
       "      <th></th>\n",
       "      <th>c1</th>\n",
       "      <th>c2</th>\n",
       "    </tr>\n",
       "  </thead>\n",
       "  <tbody>\n",
       "    <tr>\n",
       "      <th>0</th>\n",
       "      <td>-1.313953</td>\n",
       "      <td>a</td>\n",
       "    </tr>\n",
       "    <tr>\n",
       "      <th>1</th>\n",
       "      <td>-1.411953</td>\n",
       "      <td>a</td>\n",
       "    </tr>\n",
       "    <tr>\n",
       "      <th>2</th>\n",
       "      <td>-0.309123</td>\n",
       "      <td>a</td>\n",
       "    </tr>\n",
       "    <tr>\n",
       "      <th>3</th>\n",
       "      <td>-0.393349</td>\n",
       "      <td>a</td>\n",
       "    </tr>\n",
       "    <tr>\n",
       "      <th>4</th>\n",
       "      <td>0.101324</td>\n",
       "      <td>a</td>\n",
       "    </tr>\n",
       "    <tr>\n",
       "      <th>5</th>\n",
       "      <td>0.922285</td>\n",
       "      <td>b</td>\n",
       "    </tr>\n",
       "    <tr>\n",
       "      <th>6</th>\n",
       "      <td>-2.031031</td>\n",
       "      <td>b</td>\n",
       "    </tr>\n",
       "    <tr>\n",
       "      <th>7</th>\n",
       "      <td>-0.424519</td>\n",
       "      <td>b</td>\n",
       "    </tr>\n",
       "    <tr>\n",
       "      <th>8</th>\n",
       "      <td>1.159881</td>\n",
       "      <td>b</td>\n",
       "    </tr>\n",
       "    <tr>\n",
       "      <th>9</th>\n",
       "      <td>1.875916</td>\n",
       "      <td>b</td>\n",
       "    </tr>\n",
       "  </tbody>\n",
       "</table>\n",
       "</div>"
      ],
      "text/plain": [
       "         c1 c2\n",
       "0 -1.313953  a\n",
       "1 -1.411953  a\n",
       "2 -0.309123  a\n",
       "3 -0.393349  a\n",
       "4  0.101324  a\n",
       "5  0.922285  b\n",
       "6 -2.031031  b\n",
       "7 -0.424519  b\n",
       "8  1.159881  b\n",
       "9  1.875916  b"
      ]
     },
     "execution_count": 106,
     "metadata": {},
     "output_type": "execute_result"
    }
   ],
   "source": [
    "df=pd.DataFrame({\n",
    "    'c1':np.random.randn(10),\n",
    "    'c2':['a','a','a','a','a','b','b','b','b','b']\n",
    "})\n",
    "df"
   ]
  },
  {
   "cell_type": "code",
   "execution_count": 119,
   "metadata": {},
   "outputs": [
    {
     "name": "stdout",
     "output_type": "stream",
     "text": [
      "0    1\n",
      "1    1\n",
      "2    2\n",
      "3    2\n",
      "4    3\n",
      "5    4\n",
      "6    1\n",
      "7    2\n",
      "8    4\n",
      "9    5\n",
      "Name: c1bin, dtype: int64\n",
      "--------------------------------------------------\n",
      "   c1_1  c1_2  c1_3  c1_4  c1_5\n",
      "0     1     0     0     0     0\n",
      "1     1     0     0     0     0\n",
      "2     0     1     0     0     0\n",
      "3     0     1     0     0     0\n",
      "4     0     0     1     0     0\n",
      "5     0     0     0     1     0\n",
      "6     1     0     0     0     0\n",
      "7     0     1     0     0     0\n",
      "8     0     0     0     1     0\n",
      "9     0     0     0     0     1\n"
     ]
    }
   ],
   "source": [
    "bins=np.linspace(df.c1.min(),df.c1.max(),5) #linspace: c1컬럼값을 기준으로 균등하게 5개로 영역을 나눔\n",
    "bins\n",
    "\n",
    "df['c1bin']=np.digitize(df['c1'], bins) #digitize: 영역으로 나눈것을 수치로 바꾼것.1영역=min~5영역=max\n",
    "df\n",
    "\n",
    "print(df['c1bin'])\n",
    "print(\"-\"*50)\n",
    "print(pd.get_dummies(df['c1bin'], prefix='c1')) #dummies: 원샷인코딩해주는 함수"
   ]
  },
  {
   "cell_type": "code",
   "execution_count": 120,
   "metadata": {},
   "outputs": [
    {
     "data": {
      "text/plain": [
       "1.8759156248515392"
      ]
     },
     "execution_count": 120,
     "metadata": {},
     "output_type": "execute_result"
    }
   ],
   "source": [
    "df.c1.min()\n",
    "df.c1.max()"
   ]
  },
  {
   "cell_type": "code",
   "execution_count": 126,
   "metadata": {},
   "outputs": [],
   "source": [
    "from sklearn.preprocessing import LabelEncoder"
   ]
  },
  {
   "cell_type": "code",
   "execution_count": 127,
   "metadata": {},
   "outputs": [],
   "source": [
    "#원핫인코더: 딸기 -> 100, 사과 -> 010, 바나나 -> 001\n",
    "#레이블인코더: 딸기 -> 1, 사과 -> 2, 바나나 -> 3\n",
    "\n",
    "# le=LabelEncoder()\n",
    "# df['column']=le.fit_transform(df['column'])"
   ]
  },
  {
   "cell_type": "code",
   "execution_count": 134,
   "metadata": {},
   "outputs": [
    {
     "data": {
      "text/plain": [
       "(418, 11)"
      ]
     },
     "execution_count": 134,
     "metadata": {},
     "output_type": "execute_result"
    }
   ],
   "source": [
    "train=pd.read_csv(\"../data/train.csv\")\n",
    "test=pd.read_csv(\"../data/test.csv\")\n",
    "train.shape #891, 12\n",
    "test.shape #418, 11"
   ]
  },
  {
   "cell_type": "code",
   "execution_count": 137,
   "metadata": {},
   "outputs": [
    {
     "data": {
      "text/plain": [
       "PassengerId      int64\n",
       "Pclass           int64\n",
       "Name            object\n",
       "Sex             object\n",
       "Age            float64\n",
       "SibSp            int64\n",
       "Parch            int64\n",
       "Ticket          object\n",
       "Fare           float64\n",
       "Cabin           object\n",
       "Embarked        object\n",
       "dtype: object"
      ]
     },
     "execution_count": 137,
     "metadata": {},
     "output_type": "execute_result"
    }
   ],
   "source": [
    "train.dtypes\n",
    "test.dtypes"
   ]
  },
  {
   "cell_type": "code",
   "execution_count": 146,
   "metadata": {},
   "outputs": [
    {
     "data": {
      "text/plain": [
       "Index(['PassengerId', 'Pclass', 'Name', 'Sex', 'Age', 'SibSp', 'Parch',\n",
       "       'Ticket', 'Fare', 'Cabin', 'Embarked'],\n",
       "      dtype='object')"
      ]
     },
     "execution_count": 146,
     "metadata": {},
     "output_type": "execute_result"
    }
   ],
   "source": [
    "train.columns\n",
    "test.columns"
   ]
  },
  {
   "cell_type": "code",
   "execution_count": 145,
   "metadata": {},
   "outputs": [
    {
     "data": {
      "text/html": [
       "<div>\n",
       "<style scoped>\n",
       "    .dataframe tbody tr th:only-of-type {\n",
       "        vertical-align: middle;\n",
       "    }\n",
       "\n",
       "    .dataframe tbody tr th {\n",
       "        vertical-align: top;\n",
       "    }\n",
       "\n",
       "    .dataframe thead th {\n",
       "        text-align: right;\n",
       "    }\n",
       "</style>\n",
       "<table border=\"1\" class=\"dataframe\">\n",
       "  <thead>\n",
       "    <tr style=\"text-align: right;\">\n",
       "      <th></th>\n",
       "      <th>PassengerId</th>\n",
       "      <th>Pclass</th>\n",
       "      <th>Age</th>\n",
       "      <th>SibSp</th>\n",
       "      <th>Parch</th>\n",
       "      <th>Fare</th>\n",
       "    </tr>\n",
       "  </thead>\n",
       "  <tbody>\n",
       "    <tr>\n",
       "      <th>count</th>\n",
       "      <td>418.000000</td>\n",
       "      <td>418.000000</td>\n",
       "      <td>332.000000</td>\n",
       "      <td>418.000000</td>\n",
       "      <td>418.000000</td>\n",
       "      <td>417.000000</td>\n",
       "    </tr>\n",
       "    <tr>\n",
       "      <th>mean</th>\n",
       "      <td>1100.500000</td>\n",
       "      <td>2.265550</td>\n",
       "      <td>30.272590</td>\n",
       "      <td>0.447368</td>\n",
       "      <td>0.392344</td>\n",
       "      <td>35.627188</td>\n",
       "    </tr>\n",
       "    <tr>\n",
       "      <th>std</th>\n",
       "      <td>120.810458</td>\n",
       "      <td>0.841838</td>\n",
       "      <td>14.181209</td>\n",
       "      <td>0.896760</td>\n",
       "      <td>0.981429</td>\n",
       "      <td>55.907576</td>\n",
       "    </tr>\n",
       "    <tr>\n",
       "      <th>min</th>\n",
       "      <td>892.000000</td>\n",
       "      <td>1.000000</td>\n",
       "      <td>0.170000</td>\n",
       "      <td>0.000000</td>\n",
       "      <td>0.000000</td>\n",
       "      <td>0.000000</td>\n",
       "    </tr>\n",
       "    <tr>\n",
       "      <th>25%</th>\n",
       "      <td>996.250000</td>\n",
       "      <td>1.000000</td>\n",
       "      <td>21.000000</td>\n",
       "      <td>0.000000</td>\n",
       "      <td>0.000000</td>\n",
       "      <td>7.895800</td>\n",
       "    </tr>\n",
       "    <tr>\n",
       "      <th>50%</th>\n",
       "      <td>1100.500000</td>\n",
       "      <td>3.000000</td>\n",
       "      <td>27.000000</td>\n",
       "      <td>0.000000</td>\n",
       "      <td>0.000000</td>\n",
       "      <td>14.454200</td>\n",
       "    </tr>\n",
       "    <tr>\n",
       "      <th>75%</th>\n",
       "      <td>1204.750000</td>\n",
       "      <td>3.000000</td>\n",
       "      <td>39.000000</td>\n",
       "      <td>1.000000</td>\n",
       "      <td>0.000000</td>\n",
       "      <td>31.500000</td>\n",
       "    </tr>\n",
       "    <tr>\n",
       "      <th>max</th>\n",
       "      <td>1309.000000</td>\n",
       "      <td>3.000000</td>\n",
       "      <td>76.000000</td>\n",
       "      <td>8.000000</td>\n",
       "      <td>9.000000</td>\n",
       "      <td>512.329200</td>\n",
       "    </tr>\n",
       "  </tbody>\n",
       "</table>\n",
       "</div>"
      ],
      "text/plain": [
       "       PassengerId      Pclass         Age       SibSp       Parch        Fare\n",
       "count   418.000000  418.000000  332.000000  418.000000  418.000000  417.000000\n",
       "mean   1100.500000    2.265550   30.272590    0.447368    0.392344   35.627188\n",
       "std     120.810458    0.841838   14.181209    0.896760    0.981429   55.907576\n",
       "min     892.000000    1.000000    0.170000    0.000000    0.000000    0.000000\n",
       "25%     996.250000    1.000000   21.000000    0.000000    0.000000    7.895800\n",
       "50%    1100.500000    3.000000   27.000000    0.000000    0.000000   14.454200\n",
       "75%    1204.750000    3.000000   39.000000    1.000000    0.000000   31.500000\n",
       "max    1309.000000    3.000000   76.000000    8.000000    9.000000  512.329200"
      ]
     },
     "execution_count": 145,
     "metadata": {},
     "output_type": "execute_result"
    }
   ],
   "source": [
    "train.describe()\n",
    "test.describe()"
   ]
  },
  {
   "cell_type": "code",
   "execution_count": 148,
   "metadata": {},
   "outputs": [
    {
     "data": {
      "text/html": [
       "<div>\n",
       "<style scoped>\n",
       "    .dataframe tbody tr th:only-of-type {\n",
       "        vertical-align: middle;\n",
       "    }\n",
       "\n",
       "    .dataframe tbody tr th {\n",
       "        vertical-align: top;\n",
       "    }\n",
       "\n",
       "    .dataframe thead th {\n",
       "        text-align: right;\n",
       "    }\n",
       "</style>\n",
       "<table border=\"1\" class=\"dataframe\">\n",
       "  <thead>\n",
       "    <tr style=\"text-align: right;\">\n",
       "      <th></th>\n",
       "      <th>Name</th>\n",
       "      <th>Sex</th>\n",
       "      <th>Ticket</th>\n",
       "      <th>Cabin</th>\n",
       "      <th>Embarked</th>\n",
       "    </tr>\n",
       "  </thead>\n",
       "  <tbody>\n",
       "    <tr>\n",
       "      <th>0</th>\n",
       "      <td>Braund, Mr. Owen Harris</td>\n",
       "      <td>male</td>\n",
       "      <td>A/5 21171</td>\n",
       "      <td>NaN</td>\n",
       "      <td>S</td>\n",
       "    </tr>\n",
       "    <tr>\n",
       "      <th>1</th>\n",
       "      <td>Cumings, Mrs. John Bradley (Florence Briggs Th...</td>\n",
       "      <td>female</td>\n",
       "      <td>PC 17599</td>\n",
       "      <td>C85</td>\n",
       "      <td>C</td>\n",
       "    </tr>\n",
       "    <tr>\n",
       "      <th>2</th>\n",
       "      <td>Heikkinen, Miss. Laina</td>\n",
       "      <td>female</td>\n",
       "      <td>STON/O2. 3101282</td>\n",
       "      <td>NaN</td>\n",
       "      <td>S</td>\n",
       "    </tr>\n",
       "    <tr>\n",
       "      <th>3</th>\n",
       "      <td>Futrelle, Mrs. Jacques Heath (Lily May Peel)</td>\n",
       "      <td>female</td>\n",
       "      <td>113803</td>\n",
       "      <td>C123</td>\n",
       "      <td>S</td>\n",
       "    </tr>\n",
       "    <tr>\n",
       "      <th>4</th>\n",
       "      <td>Allen, Mr. William Henry</td>\n",
       "      <td>male</td>\n",
       "      <td>373450</td>\n",
       "      <td>NaN</td>\n",
       "      <td>S</td>\n",
       "    </tr>\n",
       "    <tr>\n",
       "      <th>...</th>\n",
       "      <td>...</td>\n",
       "      <td>...</td>\n",
       "      <td>...</td>\n",
       "      <td>...</td>\n",
       "      <td>...</td>\n",
       "    </tr>\n",
       "    <tr>\n",
       "      <th>886</th>\n",
       "      <td>Montvila, Rev. Juozas</td>\n",
       "      <td>male</td>\n",
       "      <td>211536</td>\n",
       "      <td>NaN</td>\n",
       "      <td>S</td>\n",
       "    </tr>\n",
       "    <tr>\n",
       "      <th>887</th>\n",
       "      <td>Graham, Miss. Margaret Edith</td>\n",
       "      <td>female</td>\n",
       "      <td>112053</td>\n",
       "      <td>B42</td>\n",
       "      <td>S</td>\n",
       "    </tr>\n",
       "    <tr>\n",
       "      <th>888</th>\n",
       "      <td>Johnston, Miss. Catherine Helen \"Carrie\"</td>\n",
       "      <td>female</td>\n",
       "      <td>W./C. 6607</td>\n",
       "      <td>NaN</td>\n",
       "      <td>S</td>\n",
       "    </tr>\n",
       "    <tr>\n",
       "      <th>889</th>\n",
       "      <td>Behr, Mr. Karl Howell</td>\n",
       "      <td>male</td>\n",
       "      <td>111369</td>\n",
       "      <td>C148</td>\n",
       "      <td>C</td>\n",
       "    </tr>\n",
       "    <tr>\n",
       "      <th>890</th>\n",
       "      <td>Dooley, Mr. Patrick</td>\n",
       "      <td>male</td>\n",
       "      <td>370376</td>\n",
       "      <td>NaN</td>\n",
       "      <td>Q</td>\n",
       "    </tr>\n",
       "  </tbody>\n",
       "</table>\n",
       "<p>891 rows × 5 columns</p>\n",
       "</div>"
      ],
      "text/plain": [
       "                                                  Name     Sex  \\\n",
       "0                              Braund, Mr. Owen Harris    male   \n",
       "1    Cumings, Mrs. John Bradley (Florence Briggs Th...  female   \n",
       "2                               Heikkinen, Miss. Laina  female   \n",
       "3         Futrelle, Mrs. Jacques Heath (Lily May Peel)  female   \n",
       "4                             Allen, Mr. William Henry    male   \n",
       "..                                                 ...     ...   \n",
       "886                              Montvila, Rev. Juozas    male   \n",
       "887                       Graham, Miss. Margaret Edith  female   \n",
       "888           Johnston, Miss. Catherine Helen \"Carrie\"  female   \n",
       "889                              Behr, Mr. Karl Howell    male   \n",
       "890                                Dooley, Mr. Patrick    male   \n",
       "\n",
       "               Ticket Cabin Embarked  \n",
       "0           A/5 21171   NaN        S  \n",
       "1            PC 17599   C85        C  \n",
       "2    STON/O2. 3101282   NaN        S  \n",
       "3              113803  C123        S  \n",
       "4              373450   NaN        S  \n",
       "..                ...   ...      ...  \n",
       "886            211536   NaN        S  \n",
       "887            112053   B42        S  \n",
       "888        W./C. 6607   NaN        S  \n",
       "889            111369  C148        C  \n",
       "890            370376   NaN        Q  \n",
       "\n",
       "[891 rows x 5 columns]"
      ]
     },
     "execution_count": 148,
     "metadata": {},
     "output_type": "execute_result"
    }
   ],
   "source": [
    "objDf=train.select_dtypes(include=['object']).copy() #타입이 objiect인 것만 데이터 프레임을 생성.\n",
    "objDf"
   ]
  },
  {
   "cell_type": "code",
   "execution_count": 152,
   "metadata": {},
   "outputs": [
    {
     "data": {
      "text/html": [
       "<div>\n",
       "<style scoped>\n",
       "    .dataframe tbody tr th:only-of-type {\n",
       "        vertical-align: middle;\n",
       "    }\n",
       "\n",
       "    .dataframe tbody tr th {\n",
       "        vertical-align: top;\n",
       "    }\n",
       "\n",
       "    .dataframe thead th {\n",
       "        text-align: right;\n",
       "    }\n",
       "</style>\n",
       "<table border=\"1\" class=\"dataframe\">\n",
       "  <thead>\n",
       "    <tr style=\"text-align: right;\">\n",
       "      <th></th>\n",
       "      <th>Name</th>\n",
       "      <th>Sex</th>\n",
       "      <th>Ticket</th>\n",
       "      <th>Cabin</th>\n",
       "      <th>Embarked</th>\n",
       "    </tr>\n",
       "  </thead>\n",
       "  <tbody>\n",
       "    <tr>\n",
       "      <th>0</th>\n",
       "      <td>False</td>\n",
       "      <td>False</td>\n",
       "      <td>False</td>\n",
       "      <td>True</td>\n",
       "      <td>False</td>\n",
       "    </tr>\n",
       "    <tr>\n",
       "      <th>1</th>\n",
       "      <td>False</td>\n",
       "      <td>False</td>\n",
       "      <td>False</td>\n",
       "      <td>False</td>\n",
       "      <td>False</td>\n",
       "    </tr>\n",
       "    <tr>\n",
       "      <th>2</th>\n",
       "      <td>False</td>\n",
       "      <td>False</td>\n",
       "      <td>False</td>\n",
       "      <td>True</td>\n",
       "      <td>False</td>\n",
       "    </tr>\n",
       "    <tr>\n",
       "      <th>3</th>\n",
       "      <td>False</td>\n",
       "      <td>False</td>\n",
       "      <td>False</td>\n",
       "      <td>False</td>\n",
       "      <td>False</td>\n",
       "    </tr>\n",
       "    <tr>\n",
       "      <th>4</th>\n",
       "      <td>False</td>\n",
       "      <td>False</td>\n",
       "      <td>False</td>\n",
       "      <td>True</td>\n",
       "      <td>False</td>\n",
       "    </tr>\n",
       "    <tr>\n",
       "      <th>...</th>\n",
       "      <td>...</td>\n",
       "      <td>...</td>\n",
       "      <td>...</td>\n",
       "      <td>...</td>\n",
       "      <td>...</td>\n",
       "    </tr>\n",
       "    <tr>\n",
       "      <th>886</th>\n",
       "      <td>False</td>\n",
       "      <td>False</td>\n",
       "      <td>False</td>\n",
       "      <td>True</td>\n",
       "      <td>False</td>\n",
       "    </tr>\n",
       "    <tr>\n",
       "      <th>887</th>\n",
       "      <td>False</td>\n",
       "      <td>False</td>\n",
       "      <td>False</td>\n",
       "      <td>False</td>\n",
       "      <td>False</td>\n",
       "    </tr>\n",
       "    <tr>\n",
       "      <th>888</th>\n",
       "      <td>False</td>\n",
       "      <td>False</td>\n",
       "      <td>False</td>\n",
       "      <td>True</td>\n",
       "      <td>False</td>\n",
       "    </tr>\n",
       "    <tr>\n",
       "      <th>889</th>\n",
       "      <td>False</td>\n",
       "      <td>False</td>\n",
       "      <td>False</td>\n",
       "      <td>False</td>\n",
       "      <td>False</td>\n",
       "    </tr>\n",
       "    <tr>\n",
       "      <th>890</th>\n",
       "      <td>False</td>\n",
       "      <td>False</td>\n",
       "      <td>False</td>\n",
       "      <td>True</td>\n",
       "      <td>False</td>\n",
       "    </tr>\n",
       "  </tbody>\n",
       "</table>\n",
       "<p>891 rows × 5 columns</p>\n",
       "</div>"
      ],
      "text/plain": [
       "      Name    Sex  Ticket  Cabin  Embarked\n",
       "0    False  False   False   True     False\n",
       "1    False  False   False  False     False\n",
       "2    False  False   False   True     False\n",
       "3    False  False   False  False     False\n",
       "4    False  False   False   True     False\n",
       "..     ...    ...     ...    ...       ...\n",
       "886  False  False   False   True     False\n",
       "887  False  False   False  False     False\n",
       "888  False  False   False   True     False\n",
       "889  False  False   False  False     False\n",
       "890  False  False   False   True     False\n",
       "\n",
       "[891 rows x 5 columns]"
      ]
     },
     "execution_count": 152,
     "metadata": {},
     "output_type": "execute_result"
    }
   ],
   "source": [
    "objDf.isnull()"
   ]
  },
  {
   "cell_type": "code",
   "execution_count": 155,
   "metadata": {},
   "outputs": [
    {
     "data": {
      "text/plain": [
       "True"
      ]
     },
     "execution_count": 155,
     "metadata": {},
     "output_type": "execute_result"
    }
   ],
   "source": [
    "#any함수는 어느 하나라도 True -> True\n",
    "any([False,False,False]) #False\n",
    "any([False,True,False]) #True\n",
    "\n",
    "#all함수는 모두 True -> True"
   ]
  },
  {
   "cell_type": "code",
   "execution_count": 161,
   "metadata": {},
   "outputs": [
    {
     "data": {
      "text/plain": [
       "(689, 5)"
      ]
     },
     "execution_count": 161,
     "metadata": {},
     "output_type": "execute_result"
    }
   ],
   "source": [
    "objDf.isnull().any(axis=0) #columns 단위로\n",
    "objDf.isnull().any(axis=1) #rows 단위로\n",
    "\n",
    "#objDf[True, True, Fasle...] True인 값만 참조되어 출력된다. \n",
    "objDf[objDf.isnull().any(axis=1)] #rows 단위로 null 한개라도 있으면 출력.\n",
    "objDf[objDf.isnull().any(axis=1)].shape #689,5 결측값이 많구나 생각해야함."
   ]
  },
  {
   "cell_type": "code",
   "execution_count": 164,
   "metadata": {},
   "outputs": [
    {
     "data": {
      "text/plain": [
       "B96 B98        4\n",
       "G6             4\n",
       "C23 C25 C27    4\n",
       "C22 C26        3\n",
       "D              3\n",
       "              ..\n",
       "D11            1\n",
       "B39            1\n",
       "A34            1\n",
       "D37            1\n",
       "C90            1\n",
       "Name: Cabin, Length: 147, dtype: int64"
      ]
     },
     "execution_count": 164,
     "metadata": {},
     "output_type": "execute_result"
    }
   ],
   "source": [
    "objDf['Cabin'].value_counts()"
   ]
  },
  {
   "cell_type": "code",
   "execution_count": 172,
   "metadata": {},
   "outputs": [
    {
     "name": "stderr",
     "output_type": "stream",
     "text": [
      "C:\\ProgramData\\Anaconda3\\lib\\site-packages\\ipykernel_launcher.py:3: SettingWithCopyWarning: \n",
      "A value is trying to be set on a copy of a slice from a DataFrame.\n",
      "Try using .loc[row_indexer,col_indexer] = value instead\n",
      "\n",
      "See the caveats in the documentation: https://pandas.pydata.org/pandas-docs/stable/user_guide/indexing.html#returning-a-view-versus-a-copy\n",
      "  This is separate from the ipykernel package so we can avoid doing imports until\n"
     ]
    }
   ],
   "source": [
    "train['Sex'].value_counts()\n",
    "train['Sex']\n",
    "train[train['Sex']=='male']['Sex']=0 #['Sex']칼럼을 참조"
   ]
  },
  {
   "cell_type": "code",
   "execution_count": null,
   "metadata": {},
   "outputs": [],
   "source": []
  }
 ],
 "metadata": {
  "kernelspec": {
   "display_name": "Python 3",
   "language": "python",
   "name": "python3"
  },
  "language_info": {
   "codemirror_mode": {
    "name": "ipython",
    "version": 3
   },
   "file_extension": ".py",
   "mimetype": "text/x-python",
   "name": "python",
   "nbconvert_exporter": "python",
   "pygments_lexer": "ipython3",
   "version": "3.7.6"
  }
 },
 "nbformat": 4,
 "nbformat_minor": 4
}