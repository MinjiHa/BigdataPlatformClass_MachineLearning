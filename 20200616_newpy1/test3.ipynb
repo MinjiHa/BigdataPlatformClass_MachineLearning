{
 "cells": [
  {
   "cell_type": "code",
   "execution_count": 8,
   "metadata": {},
   "outputs": [
    {
     "output_type": "execute_result",
     "data": {
      "text/plain": "5"
     },
     "metadata": {},
     "execution_count": 8
    }
   ],
   "source": [
    "import numpy as np\n",
    "import pandas as pd\n",
    "\n",
    "critics={\n",
    "  'BTS':{'암수살인':5, '바울':4, '할로윈':1.5},\n",
    "  '손흥민':{'바울':5, '할로윈':2},\n",
    "  '레드벨벳':{'암수살인':2.5, '바울':2, '할로윈':1},\n",
    "  '트와이스':{'암수살인':3.5, '바울':4, '할로윈':5}\n",
    "}\n",
    "\n",
    "critics['손흥민']\n",
    "critics.get('손흥민')\n",
    "critics['손흥민']['바울']\n",
    "critics.get('손흥민').get('바울')"
   ]
  },
  {
   "cell_type": "code",
   "execution_count": null,
   "metadata": {},
   "outputs": [],
   "source": [
    "df = pd.DataFrame(critics)\n",
    "df"
   ]
  },
  {
   "cell_type": "code",
   "execution_count": 10,
   "metadata": {},
   "outputs": [
    {
     "output_type": "execute_result",
     "data": {
      "text/plain": "2.0"
     },
     "metadata": {},
     "execution_count": 10
    }
   ],
   "source": [
    "from math import sqrt\n",
    "\n",
    "p = [1,2]\n",
    "q = [3,2]\n",
    "\n",
    "result = sqrt((p[0]-q[0])**2+(p[1]-q[1])**2)\n",
    "result"
   ]
  },
  {
   "cell_type": "code",
   "execution_count": 17,
   "metadata": {},
   "outputs": [
    {
     "output_type": "stream",
     "name": "stdout",
     "text": "BTS : 0.4721359549995794\n레드벨벳 : 0.4721359549995794\n트와이스 : 0.4721359549995794\n"
    }
   ],
   "source": [
    "def sim(i,j):\n",
    "    return sqrt(pow(i,2)+pow(j,2))\n",
    "\n",
    "v1 = critics['손흥민']['바울']-critics['BTS']['바울']\n",
    "v2 = critics['손흥민']['할로윈']-critics['BTS']['할로윈']\n",
    "#print(sim(v1,v2))\n",
    "\n",
    "for i in critics:\n",
    "    if i != '손흥민':\n",
    "        v1 = critics['손흥민']['바울']-critics['BTS']['바울']\n",
    "        v2 = critics['손흥민']['할로윈']-critics['BTS']['할로윈']\n",
    "        print(i,\":\", 1/(1+sim(v1,v2)))\n"
   ]
  }
 ],
 "metadata": {
  "language_info": {
   "codemirror_mode": {
    "name": "ipython",
    "version": 3
   },
   "file_extension": ".py",
   "mimetype": "text/x-python",
   "name": "python",
   "nbconvert_exporter": "python",
   "pygments_lexer": "ipython3",
   "version": "3.7.7-final"
  },
  "orig_nbformat": 2,
  "kernelspec": {
   "name": "python37764bit1304f9f95d054c62806119c5c6868c9e",
   "display_name": "Python 3.7.7 64-bit"
  }
 },
 "nbformat": 4,
 "nbformat_minor": 2
}