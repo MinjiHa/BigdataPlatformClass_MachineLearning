{
 "cells": [
  {
   "cell_type": "code",
   "execution_count": 10,
   "metadata": {},
   "outputs": [
    {
     "output_type": "execute_result",
     "data": {
      "text/plain": "5"
     },
     "metadata": {},
     "execution_count": 10
    }
   ],
   "source": [
    "import numpy as np\n",
    "import pandas as pd\n",
    "\n",
    "critics={\n",
    "  'BTS':{'암수살인':5, '바울':4, '할로윈':1.5},\n",
    "  '손흥민':{'바울':5, '할로윈':2},\n",
    "  '레드벨벳':{'암수살인':2.5, '바울':2, '할로윈':1},\n",
    "  '트와이스':{'암수살인':3.5, '바울':4, '할로윈':5}\n",
    "}\n",
    "\n",
    "critics['손흥민']\n",
    "critics.get('손흥민')\n",
    "critics['손흥민']['바울']\n",
    "critics.get('손흥민').get('바울')\n",
    "\n",
    "# df = pd.DataFrame(critics)\n",
    "# df"
   ]
  },
  {
   "cell_type": "code",
   "execution_count": 7,
   "metadata": {},
   "outputs": [
    {
     "output_type": "stream",
     "name": "stdout",
     "text": "바울\n할로윈\n"
    }
   ],
   "source": [
    "# bts,손흥민 피어슨 상관계수?\n",
    "\n",
    "def simMean(data,name1,name2):\n",
    "    sum = 0\n",
    "    count = 0\n",
    "    for i in data[name1]:\n",
    "        if i in data[name2]:\n",
    "            sum += data[name1][i]\n",
    "            count = count + 1\n",
    "    if count==0:\n",
    "        return -1\n",
    "    return sum/count\n",
    "\n",
    "for i in critics['BTS']:\n",
    "    if i in critics['손흥민']:\n",
    "        print(i)\n",
    "\n",
    "#def cov(data, name1, name2, index=2, simFuction=simDistance)"
   ]
  },
  {
   "cell_type": "code",
   "execution_count": 9,
   "metadata": {},
   "outputs": [],
   "source": [
    "def simMean(data,name1,name2):\n",
    "    sum = 0\n",
    "    count = 0\n",
    "    for i in data[name1]:\n",
    "        if i in data[name2]:\n",
    "            sum += data[name1][i]\n",
    "            count = count + 1\n",
    "    if count==0:\n",
    "        return -1\n",
    "    return sum/count\n",
    "\n",
    "def simCov(data, name1, name2):\n",
    "    sum = 0\n",
    "    for i in data[name1]:\n",
    "        if i in data[name2]:\n",
    "            sum += (data[name1][i]-simMean(data,name1,name2))*(data[name2][i]-simMean(data,name2,name1))\n",
    "    return sum\n",
    "\n",
    "def simStd(data, name1, name2):\n",
    "    sum = 0\n",
    "    for i in data[name1]:\n",
    "        if i in data[name2]:\n",
    "            sum += (data[name1][i]-simMean(data,name1,name2))**2\n",
    "    return sum**0.5\n",
    "\n",
    "def simPearson(data, name1, name2):\n",
    "    pearson = simCov(data,name1,name2) / (simStd(data,name1,name2)*simStd(data,name2,name1))\n",
    "    return pearson\n",
    "\n",
    "for i in critics:\n",
    "    for j in critics:\n",
    "        if i!=j:\n",
    "            print(i,j,simPearson(critics,i,j))"
   ]
  },
  {
   "cell_type": "code",
   "execution_count": 13,
   "metadata": {},
   "outputs": [
    {
     "output_type": "execute_result",
     "data": {
      "text/plain": "0.9986254289035241"
     },
     "metadata": {},
     "execution_count": 13
    }
   ],
   "source": [
    "simPearson(critics,'BTS','손흥민')\n",
    "simPearson(critics,'손흥민','BTS')\n",
    "simPearson(critics,'BTS','레드벨벳')"
   ]
  },
  {
   "cell_type": "code",
   "execution_count": 26,
   "metadata": {},
   "outputs": [
    {
     "output_type": "stream",
     "name": "stdout",
     "text": "BTS 손흥민 1.0\nBTS 레드벨벳 0.9986254289035241\nBTS 트와이스 -0.998625428903524\n손흥민 BTS 1.0\n손흥민 레드벨벳 1.0\n손흥민 트와이스 -1.0\n"
    }
   ],
   "source": [
    "critics_index = list(critics.keys())[:2]\n",
    "\n",
    "\n",
    "for i in critics_index:\n",
    "    for j in critics:\n",
    "        if i!=j:\n",
    "            print(i,j,simPearson(critics,i,j))"
   ]
  }
 ],
 "metadata": {
  "language_info": {
   "codemirror_mode": {
    "name": "ipython",
    "version": 3
   },
   "file_extension": ".py",
   "mimetype": "text/x-python",
   "name": "python",
   "nbconvert_exporter": "python",
   "pygments_lexer": "ipython3",
   "version": "3.7.7-final"
  },
  "orig_nbformat": 2,
  "kernelspec": {
   "name": "python37764bit1304f9f95d054c62806119c5c6868c9e",
   "display_name": "Python 3.7.7 64-bit"
  }
 },
 "nbformat": 4,
 "nbformat_minor": 2
}