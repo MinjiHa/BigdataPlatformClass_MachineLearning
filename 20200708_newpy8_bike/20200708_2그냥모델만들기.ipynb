{
 "cells": [
  {
   "cell_type": "code",
   "execution_count": 2,
   "metadata": {},
   "outputs": [],
   "source": [
    "import pandas as pd\n",
    "import numpy as np\n",
    "import matplotlib.pyplot as plt\n",
    "import seaborn as sns\n",
    "from sklearn.ensemble import RandomForestClassifier\n",
    "#################################### 한글깨짐 ####################################\n",
    "import matplotlib\n",
    "from matplotlib import font_manager, rc\n",
    "import platform\n",
    "if platform.system()==\"Windows\":\n",
    "    font_name=font_manager.FontProperties(fname=\"c:/Windows/Fonts/malgun.ttf\").get_name()\n",
    "    rc('font', family=font_name)\n",
    "matplotlib.rcParams['axes.unicode_minus']=False\n",
    "\n",
    "import warnings\n",
    "warnings.filterwarnings(\"ignore\")\n",
    "##################################################################################"
   ]
  },
  {
   "cell_type": "code",
   "execution_count": 3,
   "metadata": {
    "tags": []
   },
   "outputs": [
    {
     "output_type": "stream",
     "name": "stdout",
     "text": "<class 'pandas.core.frame.DataFrame'>\nRangeIndex: 10886 entries, 0 to 10885\nData columns (total 12 columns):\n #   Column      Non-Null Count  Dtype         \n---  ------      --------------  -----         \n 0   datetime    10886 non-null  datetime64[ns]\n 1   season      10886 non-null  int64         \n 2   holiday     10886 non-null  int64         \n 3   workingday  10886 non-null  int64         \n 4   weather     10886 non-null  int64         \n 5   temp        10886 non-null  float64       \n 6   atemp       10886 non-null  float64       \n 7   humidity    10886 non-null  int64         \n 8   windspeed   10886 non-null  float64       \n 9   casual      10886 non-null  int64         \n 10  registered  10886 non-null  int64         \n 11  count       10886 non-null  int64         \ndtypes: datetime64[ns](1), float64(3), int64(8)\nmemory usage: 1020.7 KB\n"
    }
   ],
   "source": [
    "train = pd.read_csv(\"../bike-sharing-demand/train.csv\", parse_dates=[\"datetime\"])\n",
    "test = pd.read_csv(\"../bike-sharing-demand/test.csv\", parse_dates=[\"datetime\"])\n",
    "train.info()"
   ]
  },
  {
   "cell_type": "code",
   "execution_count": 4,
   "metadata": {},
   "outputs": [
    {
     "output_type": "execute_result",
     "data": {
      "text/plain": "                 datetime   count\n0     2011-01-20 00:00:00   11.24\n1     2011-01-20 01:00:00    5.02\n2     2011-01-20 02:00:00    4.01\n3     2011-01-20 03:00:00    3.50\n4     2011-01-20 04:00:00    3.03\n...                   ...     ...\n6488  2012-12-31 19:00:00  291.54\n6489  2012-12-31 20:00:00  197.88\n6490  2012-12-31 21:00:00  138.91\n6491  2012-12-31 22:00:00  110.14\n6492  2012-12-31 23:00:00   64.70\n\n[6493 rows x 2 columns]",
      "text/html": "<div>\n<style scoped>\n    .dataframe tbody tr th:only-of-type {\n        vertical-align: middle;\n    }\n\n    .dataframe tbody tr th {\n        vertical-align: top;\n    }\n\n    .dataframe thead th {\n        text-align: right;\n    }\n</style>\n<table border=\"1\" class=\"dataframe\">\n  <thead>\n    <tr style=\"text-align: right;\">\n      <th></th>\n      <th>datetime</th>\n      <th>count</th>\n    </tr>\n  </thead>\n  <tbody>\n    <tr>\n      <th>0</th>\n      <td>2011-01-20 00:00:00</td>\n      <td>11.24</td>\n    </tr>\n    <tr>\n      <th>1</th>\n      <td>2011-01-20 01:00:00</td>\n      <td>5.02</td>\n    </tr>\n    <tr>\n      <th>2</th>\n      <td>2011-01-20 02:00:00</td>\n      <td>4.01</td>\n    </tr>\n    <tr>\n      <th>3</th>\n      <td>2011-01-20 03:00:00</td>\n      <td>3.50</td>\n    </tr>\n    <tr>\n      <th>4</th>\n      <td>2011-01-20 04:00:00</td>\n      <td>3.03</td>\n    </tr>\n    <tr>\n      <th>...</th>\n      <td>...</td>\n      <td>...</td>\n    </tr>\n    <tr>\n      <th>6488</th>\n      <td>2012-12-31 19:00:00</td>\n      <td>291.54</td>\n    </tr>\n    <tr>\n      <th>6489</th>\n      <td>2012-12-31 20:00:00</td>\n      <td>197.88</td>\n    </tr>\n    <tr>\n      <th>6490</th>\n      <td>2012-12-31 21:00:00</td>\n      <td>138.91</td>\n    </tr>\n    <tr>\n      <th>6491</th>\n      <td>2012-12-31 22:00:00</td>\n      <td>110.14</td>\n    </tr>\n    <tr>\n      <th>6492</th>\n      <td>2012-12-31 23:00:00</td>\n      <td>64.70</td>\n    </tr>\n  </tbody>\n</table>\n<p>6493 rows × 2 columns</p>\n</div>"
     },
     "metadata": {},
     "execution_count": 4
    }
   ],
   "source": [
    "# datetime컬럼 정리\n",
    "train['year'] = train['datetime'].dt.year\n",
    "train['month'] = train['datetime'].dt.month\n",
    "train['hour'] = train['datetime'].dt.hour\n",
    "train['dayofweek'] = train['datetime'].dt.dayofweek\n",
    "test['year'] = test['datetime'].dt.year\n",
    "test['month'] = test['datetime'].dt.month\n",
    "test['hour'] = test['datetime'].dt.hour\n",
    "test['dayofweek'] = test['datetime'].dt.dayofweek\n",
    "\n",
    "# 모델만들어서 예측하기\n",
    "from sklearn.ensemble import RandomForestRegressor\n",
    "label = train['count']\n",
    "drop_col = ['datetime','casual','registered','count','windspeed']\n",
    "xData = train.drop(drop_col,axis=1)\n",
    "datetime_tmp = test.datetime\n",
    "test = test.drop(['datetime','windspeed'],axis=1)\n",
    "rfModel = RandomForestRegressor()\n",
    "rfModel.fit(xData, label)\n",
    "prediction = rfModel.predict(test)\n",
    "res = pd.DataFrame({'datetime':datetime_tmp ,'count':prediction})\n",
    "res.to_csv(\"result2.csv\",index=False)\n",
    "pd.read_csv(\"result2.csv\")"
   ]
  }
 ],
 "metadata": {
  "language_info": {
   "codemirror_mode": {
    "name": "ipython",
    "version": 3
   },
   "file_extension": ".py",
   "mimetype": "text/x-python",
   "name": "python",
   "nbconvert_exporter": "python",
   "pygments_lexer": "ipython3",
   "version": "3.7.7-final"
  },
  "orig_nbformat": 2,
  "kernelspec": {
   "name": "python37764bit1304f9f95d054c62806119c5c6868c9e",
   "display_name": "Python 3.7.7 64-bit"
  }
 },
 "nbformat": 4,
 "nbformat_minor": 2
}