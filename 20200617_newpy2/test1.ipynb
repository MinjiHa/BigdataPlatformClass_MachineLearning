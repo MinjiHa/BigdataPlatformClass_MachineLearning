{
 "cells": [
  {
   "cell_type": "code",
   "execution_count": 6,
   "metadata": {
    "tags": []
   },
   "outputs": [
    {
     "output_type": "stream",
     "name": "stdout",
     "text": "<re.Match object; span=(0, 12), match='02-1234-5678'>\n<re.Match object; span=(0, 13), match='042-1234-5678'>\n<re.Match object; span=(0, 11), match='02-123-5678'>\nNone\n"
    }
   ],
   "source": [
    "import re\n",
    "\n",
    "re.match(\"[0-9]{3}\",'010-')\n",
    "print(re.match(\"\\d{2,3}[-]\\d{3,4}[-]\\d{4}\",\"02-1234-5678\"))\n",
    "print(re.match(\"\\d{2,3}[-]\\d{3,4}[-]\\d{4}\",\"042-1234-5678\"))\n",
    "print(re.match(\"\\d{2,3}[-]\\d{3,4}[-]\\d{4}\",\"02-123-5678\"))\n",
    "print(re.match(\"\\d{2,3}[-]\\d{3,4}[-]\\d{4}\",\"02-12345-5678\"))"
   ]
  },
  {
   "cell_type": "code",
   "execution_count": 10,
   "metadata": {},
   "outputs": [
    {
     "output_type": "execute_result",
     "data": {
      "text/plain": "<re.Match object; span=(1, 3), match='**'>"
     },
     "metadata": {},
     "execution_count": 10
    }
   ],
   "source": [
    "re.search(\"\\*\",\"3**2\") # 주어진 문자열에 *이 있는지 확인하고 싶으면?\n",
    "re.search(\"\\*+\",\"3**2\") # 주어진 문자열에 여러개의 *이 있는지 확인하고 싶으면?"
   ]
  },
  {
   "cell_type": "code",
   "execution_count": 15,
   "metadata": {},
   "outputs": [
    {
     "output_type": "execute_result",
     "data": {
      "text/plain": "<re.Match object; span=(0, 9), match='Hello1234'>"
     },
     "metadata": {},
     "execution_count": 15
    }
   ],
   "source": [
    "re.match(\"\\w+\",\"Hello1234\")\n",
    "re.match(\"[A-Za-z\\s0-9]+\",\"Hello1234\")"
   ]
  },
  {
   "cell_type": "code",
   "execution_count": 20,
   "metadata": {},
   "outputs": [
    {
     "output_type": "execute_result",
     "data": {
      "text/plain": "<re.Match object; span=(0, 13), match='println(1234)'>"
     },
     "metadata": {},
     "execution_count": 20
    }
   ],
   "source": [
    "m = re.match(\"([0-9]+) ([0-9]+)\",'10 200') #가운데 공백 인식하는구나..\n",
    "re.match(\"[a-z]+\\(\\d+\\)\",\"println(1234)\")"
   ]
  },
  {
   "cell_type": "code",
   "execution_count": 31,
   "metadata": {},
   "outputs": [
    {
     "output_type": "execute_result",
     "data": {
      "text/plain": "'println'"
     },
     "metadata": {},
     "execution_count": 31
    }
   ],
   "source": [
    "m=re.match(\"(?P<fn>[a-zA-Z_][a-zA-Z0-9]+)\\((?P<par>[a-zA-Z0-9]+)\\)\", \"println(1234)\")\n",
    "# 함수이름 (인수)\n",
    "# [a-zA-Z0-9]\\([a-zA-Z0-9]\\)\n",
    "m.group('fn')"
   ]
  },
  {
   "cell_type": "code",
   "execution_count": 32,
   "metadata": {},
   "outputs": [
    {
     "output_type": "execute_result",
     "data": {
      "text/plain": "'asdbsadmprint2'"
     },
     "metadata": {},
     "execution_count": 32
    }
   ],
   "source": [
    "re.match('[a-z]+\\([0-9]+\\)','println(1234)')\n",
    "m=re.match('(?P<fn>[a-zA-Z_][a-zA-Z_0-9]+)\\((?P<par>[a-zA-Z_0-9]+)\\)','asdbsadmprint2(asd)')\n",
    "m.group('fn')"
   ]
  },
  {
   "cell_type": "code",
   "execution_count": null,
   "metadata": {},
   "outputs": [],
   "source": [
    "re.sub(\"[0-9]+\",\"num\", \"1 2 one two 3 four 4 5\")"
   ]
  },
  {
   "cell_type": "code",
   "execution_count": 27,
   "metadata": {},
   "outputs": [
    {
     "output_type": "execute_result",
     "data": {
      "text/plain": "'10 20 one two 30 four 40 50'"
     },
     "metadata": {},
     "execution_count": 27
    }
   ],
   "source": [
    "def myFunc(m):\n",
    "    n = int(m.group())\n",
    "    return str(n*10)\n",
    "\n",
    "re.sub(\"[0-9]+\",myFunc, \"1 2 one two 3 four 4 5\")\n",
    "re.sub(\"[0-9]+\",lambda m:str(int(m.group())*10), \"1 2 one two 3 four 4 5\") #찾은 문자가 m으로 전달된다. m에대해 :이하 수행"
   ]
  },
  {
   "cell_type": "code",
   "execution_count": 30,
   "metadata": {},
   "outputs": [
    {
     "output_type": "execute_result",
     "data": {
      "text/plain": "<re.Match object; span=(0, 10), match='임꺽정ㅋㅋㅋㅋㅋㅋㅋ'>"
     },
     "metadata": {},
     "execution_count": 30
    }
   ],
   "source": [
    "re.match(\"[가-힣]+\",\"임꺽정ㅋㅋㅋㅋㅋㅋㅋ\")\n",
    "re.match(\"[가-힣ㄱ-ㅎ]+\",\"임꺽정ㅋㅋㅋㅋㅋㅋㅋ\")"
   ]
  },
  {
   "cell_type": "code",
   "execution_count": 33,
   "metadata": {
    "tags": []
   },
   "outputs": [
    {
     "output_type": "stream",
     "name": "stdout",
     "text": "nan\n"
    }
   ],
   "source": [
    "from numpy import NaN, NAN, nan\n",
    "\n",
    "print(NAN)"
   ]
  }
 ],
 "metadata": {
  "language_info": {
   "codemirror_mode": {
    "name": "ipython",
    "version": 3
   },
   "file_extension": ".py",
   "mimetype": "text/x-python",
   "name": "python",
   "nbconvert_exporter": "python",
   "pygments_lexer": "ipython3",
   "version": "3.7.7-final"
  },
  "orig_nbformat": 2,
  "kernelspec": {
   "name": "python37764bit1304f9f95d054c62806119c5c6868c9e",
   "display_name": "Python 3.7.7 64-bit"
  }
 },
 "nbformat": 4,
 "nbformat_minor": 2
}