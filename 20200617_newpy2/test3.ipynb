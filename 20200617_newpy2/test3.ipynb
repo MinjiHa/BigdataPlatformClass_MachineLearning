{
 "cells": [
  {
   "cell_type": "code",
   "execution_count": 5,
   "metadata": {
    "tags": []
   },
   "outputs": [
    {
     "output_type": "stream",
     "name": "stdout",
     "text": "<re.Match object; span=(0, 18), match='gd.park@test.co.kr'>\n<re.Match object; span=(0, 14), match='kim@google.com'>\nNone\nNone\n"
    }
   ],
   "source": [
    "import re\n",
    "\n",
    "print(re.match(\"[A-Za-z0-9\\.]+\\@+[A-Za-z0-9]+[.][A-Za-z0-9\\.]+\",\"gd.park@test.co.kr\"))\n",
    "print(re.match(\"[A-Za-z0-9\\.]+\\@+[A-Za-z0-9]+[.][A-Za-z0-9\\.]+\",\"kim@google.com\"))\n",
    "print(re.match(\"[A-Za-z0-9\\.]+\\@+[A-Za-z0-9]+[.][A-Za-z0-9\\.]+\",\"kim@google\"))\n",
    "print(re.match(\"[A-Za-z0-9\\.]+\\@+[A-Za-z0-9]+[.][A-Za-z0-9\\.]+\",\"kim@\"))"
   ]
  },
  {
   "cell_type": "code",
   "execution_count": null,
   "metadata": {},
   "outputs": [],
   "source": [
    "##################################################################################################\n",
    "#1. 토지\n",
    "\n",
    "import re\n",
    "\n",
    "toji = open(\"toji.txt\", encoding='UTF16').read()\n",
    "chat = re.findall(\"<p>\\\"(.+)\\\"\",toji)\n",
    "from konlpy.tag import Kkma\n",
    "\n",
    "chattext=\"\"\n",
    "for i in chat:\n",
    "    chattext += i\n",
    "\n",
    "kkma = Kkma()\n",
    "kkma.nouns(chattext)\n",
    "\n",
    "##################################################################################################\n",
    "#2. 네이버 지식인 파이썬 검색 질문/답변 추출\n",
    "\n",
    "from bs4 import BeautifulSoup\n",
    "from urllib.request import urlopen\n",
    "from urllib.request import urljoin\n",
    "\n",
    "content = \"\"\n",
    "for i in range(1,100,10):\n",
    "    url = urlopen('https://search.naver.com/search.naver?where=kin&kin_display=10&qt=&title=0&&answer=0&grade=0&choice=0&sec=0&nso=so%3Ar%2Ca%3Aall%2Cp%3Aall&query=%ED%8C%8C%EC%9D%B4%EC%8D%AC&c_id=&c_name=&sm=tab_pge&kin_start='+str(i))\n",
    "    soup = BeautifulSoup(url, 'html.parser')\n",
    "\n",
    "    for i in range(0,10):\n",
    "        q = soup.find_all('dt','question')[i]\n",
    "        a = soup.find_all('dd','answer')[i]\n",
    "        content += q.find('a').get_text()\n",
    "        content += a.get_text()\n",
    "\n",
    "from konlpy.tag import Okt\n",
    "\n",
    "okt = Okt()\n",
    "set(okt.nouns(content))\n",
    "\n",
    "##################################################################################################\n",
    "#3. 이메일 패턴 정의\n",
    "\n",
    "import re\n",
    "\n",
    "print(re.match(\"[A-Za-z0-9\\.]+\\@+[A-Za-z0-9]+[.][A-Za-z0-9\\.]+\",\"gd.park@test.co.kr\"))\n",
    "print(re.match(\"[A-Za-z0-9\\.]+\\@+[A-Za-z0-9]+[.][A-Za-z0-9\\.]+\",\"kim@google.com\"))\n",
    "print(re.match(\"[A-Za-z0-9\\.]+\\@+[A-Za-z0-9]+[.][A-Za-z0-9\\.]+\",\"kim@google\"))\n",
    "print(re.match(\"[A-Za-z0-9\\.]+\\@+[A-Za-z0-9]+[.][A-Za-z0-9\\.]+\",\"kim@\"))"
   ]
  }
 ],
 "metadata": {
  "language_info": {
   "codemirror_mode": {
    "name": "ipython",
    "version": 3
   },
   "file_extension": ".py",
   "mimetype": "text/x-python",
   "name": "python",
   "nbconvert_exporter": "python",
   "pygments_lexer": "ipython3",
   "version": "3.7.7-final"
  },
  "orig_nbformat": 2,
  "kernelspec": {
   "name": "python37764bit1304f9f95d054c62806119c5c6868c9e",
   "display_name": "Python 3.7.7 64-bit"
  }
 },
 "nbformat": 4,
 "nbformat_minor": 2
}