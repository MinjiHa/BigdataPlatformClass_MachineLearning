{
 "cells": [
  {
   "cell_type": "code",
   "execution_count": 6,
   "metadata": {
    "tags": []
   },
   "outputs": [
    {
     "output_type": "stream",
     "name": "stdout",
     "text": "ident   site       dated\n0    619   DR-1  1927-02-08\n1    622   DR-1  1927-02-10\n2    734   DR-3  1939-01-07\n3    735   DR-3  1930-01-12\n4    751   DR-3  1930-02-26\n5    752   DR-3         NaN\n6    837  MSK-4  1932-01-14\n7    844   DR-1  1932-03-22\n    taken person quant  reading\n0     619   dyer   rad     9.82\n1     619   dyer   sal     0.13\n2     622   dyer   rad     7.80\n3     622   dyer   sal     0.09\n4     734     pb   rad     8.41\n5     734   lake   sal     0.05\n6     734     pb  temp   -21.50\n7     735     pb   rad     7.22\n8     735    NaN   sal     0.06\n9     735    NaN  temp   -26.00\n10    751     pb   rad     4.35\n11    751     pb  temp   -18.50\n12    751   lake   sal     0.10\n13    752   lake   rad     2.19\n14    752   lake   sal     0.09\n15    752   lake  temp   -16.00\n16    752    roe   sal    41.60\n17    837   lake   rad     1.46\n18    837   lake   sal     0.21\n19    837    roe   sal    22.50\n20    844    roe   rad    11.25\n"
    }
   ],
   "source": [
    "import pandas as pd\n",
    "\n",
    "visited = pd.read_csv(\"../data2/survey_visited.csv\")\n",
    "survey = pd.read_csv(\"../data2/survey_survey.csv\")\n",
    "\n",
    "print(visited)\n",
    "print(survey)\n",
    "\n"
   ]
  },
  {
   "cell_type": "code",
   "execution_count": 8,
   "metadata": {},
   "outputs": [
    {
     "output_type": "execute_result",
     "data": {
      "text/plain": "dog       4.0\namoeba    NaN\ndtype: float64"
     },
     "metadata": {},
     "execution_count": 8
    }
   ],
   "source": [
    "from numpy import NaN, NAN, nan\n",
    "\n",
    "num = pd.Series({\n",
    "    'dog':4 , 'amoeba':nan\n",
    "})\n",
    "\n",
    "num"
   ]
  },
  {
   "cell_type": "code",
   "execution_count": 20,
   "metadata": {},
   "outputs": [
    {
     "output_type": "execute_result",
     "data": {
      "text/plain": "year\n1952    49.057620\n1957    51.507401\n1962    53.609249\n1967    55.678290\n1972    57.647386\n1977    59.570157\n1982    61.533197\n1987    63.212613\n1992    64.160338\n1997    65.014676\n2002    65.694923\n2007    67.007423\nName: lifeExp, dtype: float64"
     },
     "metadata": {},
     "execution_count": 20
    }
   ],
   "source": [
    "gap = pd.read_csv(\"../data2/gapminder.tsv\", sep=\"\\t\")\n",
    "gap.head()\n",
    "\n",
    "res = gap.groupby(\"year\")[\"lifeExp\"].mean()\n",
    "res"
   ]
  },
  {
   "cell_type": "code",
   "execution_count": 25,
   "metadata": {},
   "outputs": [
    {
     "output_type": "execute_result",
     "data": {
      "text/plain": "65.69492253521126"
     },
     "metadata": {},
     "execution_count": 25
    }
   ],
   "source": [
    "res.loc[2002]\n",
    "res.iloc[10]\n",
    "res.iloc[-2]\n",
    "#res.loc[range(2000,2010)]"
   ]
  },
  {
   "cell_type": "code",
   "execution_count": 33,
   "metadata": {
    "tags": []
   },
   "outputs": [
    {
     "output_type": "stream",
     "name": "stdout",
     "text": "<class 'pandas.core.frame.DataFrame'>\nRangeIndex: 122 entries, 0 to 121\nData columns (total 18 columns):\n #   Column               Non-Null Count  Dtype  \n---  ------               --------------  -----  \n 0   Date                 122 non-null    object \n 1   Day                  122 non-null    int64  \n 2   Cases_Guinea         93 non-null     float64\n 3   Cases_Liberia        83 non-null     float64\n 4   Cases_SierraLeone    87 non-null     float64\n 5   Cases_Nigeria        38 non-null     float64\n 6   Cases_Senegal        25 non-null     float64\n 7   Cases_UnitedStates   18 non-null     float64\n 8   Cases_Spain          16 non-null     float64\n 9   Cases_Mali           12 non-null     float64\n 10  Deaths_Guinea        92 non-null     float64\n 11  Deaths_Liberia       81 non-null     float64\n 12  Deaths_SierraLeone   87 non-null     float64\n 13  Deaths_Nigeria       38 non-null     float64\n 14  Deaths_Senegal       22 non-null     float64\n 15  Deaths_UnitedStates  18 non-null     float64\n 16  Deaths_Spain         16 non-null     float64\n 17  Deaths_Mali          12 non-null     float64\ndtypes: float64(16), int64(1), object(1)\nmemory usage: 17.3+ KB\n"
    },
    {
     "output_type": "execute_result",
     "data": {
      "text/plain": "Date                     0\nDay                      0\nCases_Guinea            29\nCases_Liberia           39\nCases_SierraLeone       35\nCases_Nigeria           84\nCases_Senegal           97\nCases_UnitedStates     104\nCases_Spain            106\nCases_Mali             110\nDeaths_Guinea           30\nDeaths_Liberia          41\nDeaths_SierraLeone      35\nDeaths_Nigeria          84\nDeaths_Senegal         100\nDeaths_UnitedStates    104\nDeaths_Spain           106\nDeaths_Mali            110\ndtype: int64"
     },
     "metadata": {},
     "execution_count": 33
    }
   ],
   "source": [
    "ebola = pd.read_csv(\"../data2/country_timeseries.csv\")\n",
    "ebola.head()\n",
    "ebola.info()\n",
    "\n",
    "ebola.shape[0]-ebola.count() # 값의 갯수 출력 "
   ]
  },
  {
   "cell_type": "code",
   "execution_count": 35,
   "metadata": {},
   "outputs": [
    {
     "output_type": "execute_result",
     "data": {
      "text/plain": "29"
     },
     "metadata": {},
     "execution_count": 35
    }
   ],
   "source": [
    "import numpy as np\n",
    "\n",
    "np.count_nonzero(ebola.isnull())\n",
    "np.count_nonzero(ebola['Cases_Guinea'].isnull())"
   ]
  },
  {
   "cell_type": "code",
   "execution_count": 36,
   "metadata": {},
   "outputs": [
    {
     "output_type": "execute_result",
     "data": {
      "text/plain": "(122, 18)"
     },
     "metadata": {},
     "execution_count": 36
    }
   ],
   "source": [
    "ebola.shape"
   ]
  },
  {
   "cell_type": "code",
   "execution_count": 37,
   "metadata": {},
   "outputs": [
    {
     "output_type": "execute_result",
     "data": {
      "text/plain": "          Date  Day  Cases_Guinea  Cases_Liberia  Cases_SierraLeone  \\\n19  11/18/2014  241        2047.0         7082.0             6190.0   \n\n    Cases_Nigeria  Cases_Senegal  Cases_UnitedStates  Cases_Spain  Cases_Mali  \\\n19           20.0            1.0                 4.0          1.0         6.0   \n\n    Deaths_Guinea  Deaths_Liberia  Deaths_SierraLeone  Deaths_Nigeria  \\\n19         1214.0          2963.0              1267.0             8.0   \n\n    Deaths_Senegal  Deaths_UnitedStates  Deaths_Spain  Deaths_Mali  \n19             0.0                  1.0           0.0          6.0  ",
      "text/html": "<div>\n<style scoped>\n    .dataframe tbody tr th:only-of-type {\n        vertical-align: middle;\n    }\n\n    .dataframe tbody tr th {\n        vertical-align: top;\n    }\n\n    .dataframe thead th {\n        text-align: right;\n    }\n</style>\n<table border=\"1\" class=\"dataframe\">\n  <thead>\n    <tr style=\"text-align: right;\">\n      <th></th>\n      <th>Date</th>\n      <th>Day</th>\n      <th>Cases_Guinea</th>\n      <th>Cases_Liberia</th>\n      <th>Cases_SierraLeone</th>\n      <th>Cases_Nigeria</th>\n      <th>Cases_Senegal</th>\n      <th>Cases_UnitedStates</th>\n      <th>Cases_Spain</th>\n      <th>Cases_Mali</th>\n      <th>Deaths_Guinea</th>\n      <th>Deaths_Liberia</th>\n      <th>Deaths_SierraLeone</th>\n      <th>Deaths_Nigeria</th>\n      <th>Deaths_Senegal</th>\n      <th>Deaths_UnitedStates</th>\n      <th>Deaths_Spain</th>\n      <th>Deaths_Mali</th>\n    </tr>\n  </thead>\n  <tbody>\n    <tr>\n      <th>19</th>\n      <td>11/18/2014</td>\n      <td>241</td>\n      <td>2047.0</td>\n      <td>7082.0</td>\n      <td>6190.0</td>\n      <td>20.0</td>\n      <td>1.0</td>\n      <td>4.0</td>\n      <td>1.0</td>\n      <td>6.0</td>\n      <td>1214.0</td>\n      <td>2963.0</td>\n      <td>1267.0</td>\n      <td>8.0</td>\n      <td>0.0</td>\n      <td>1.0</td>\n      <td>0.0</td>\n      <td>6.0</td>\n    </tr>\n  </tbody>\n</table>\n</div>"
     },
     "metadata": {},
     "execution_count": 37
    }
   ],
   "source": [
    "ebola.dropna() #na가 있으면 drop해라. > 데이터가 딸랑 1개남는다. 할수있는게 아무것도 없다. > 2000건은 데이터도 아니다. 아무것도 모담"
   ]
  },
  {
   "cell_type": "code",
   "execution_count": 45,
   "metadata": {},
   "outputs": [
    {
     "output_type": "execute_result",
     "data": {
      "text/plain": "         Date  Day  Cases_Guinea  Cases_Liberia  Cases_SierraLeone  \\\n0    1/5/2015  289        2776.0            NaN            10030.0   \n1    1/4/2015  288        2775.0            NaN             9780.0   \n2    1/3/2015  287        2769.0         8166.0             9722.0   \n3    1/2/2015  286           NaN         8157.0                NaN   \n4  12/31/2014  284        2730.0         8115.0             9633.0   \n\n   Cases_Nigeria  Cases_Senegal  Cases_UnitedStates  Cases_Spain  Cases_Mali  \\\n0            NaN            NaN                 NaN          NaN         NaN   \n1            NaN            NaN                 NaN          NaN         NaN   \n2            NaN            NaN                 NaN          NaN         NaN   \n3            NaN            NaN                 NaN          NaN         NaN   \n4            NaN            NaN                 NaN          NaN         NaN   \n\n   Deaths_Guinea  Deaths_Liberia  Deaths_SierraLeone  Deaths_Nigeria  \\\n0         1786.0             NaN              2977.0             NaN   \n1         1781.0             NaN              2943.0             NaN   \n2         1767.0          3496.0              2915.0             NaN   \n3            NaN          3496.0                 NaN             NaN   \n4         1739.0          3471.0              2827.0             NaN   \n\n   Deaths_Senegal  Deaths_UnitedStates  Deaths_Spain  Deaths_Mali  \\\n0             NaN                  NaN           NaN          NaN   \n1             NaN                  NaN           NaN          NaN   \n2             NaN                  NaN           NaN          NaN   \n3             NaN                  NaN           NaN          NaN   \n4             NaN                  NaN           NaN          NaN   \n\n   Cases_multiple  \n0             NaN  \n1             NaN  \n2         20657.0  \n3             NaN  \n4         20478.0  ",
      "text/html": "<div>\n<style scoped>\n    .dataframe tbody tr th:only-of-type {\n        vertical-align: middle;\n    }\n\n    .dataframe tbody tr th {\n        vertical-align: top;\n    }\n\n    .dataframe thead th {\n        text-align: right;\n    }\n</style>\n<table border=\"1\" class=\"dataframe\">\n  <thead>\n    <tr style=\"text-align: right;\">\n      <th></th>\n      <th>Date</th>\n      <th>Day</th>\n      <th>Cases_Guinea</th>\n      <th>Cases_Liberia</th>\n      <th>Cases_SierraLeone</th>\n      <th>Cases_Nigeria</th>\n      <th>Cases_Senegal</th>\n      <th>Cases_UnitedStates</th>\n      <th>Cases_Spain</th>\n      <th>Cases_Mali</th>\n      <th>Deaths_Guinea</th>\n      <th>Deaths_Liberia</th>\n      <th>Deaths_SierraLeone</th>\n      <th>Deaths_Nigeria</th>\n      <th>Deaths_Senegal</th>\n      <th>Deaths_UnitedStates</th>\n      <th>Deaths_Spain</th>\n      <th>Deaths_Mali</th>\n      <th>Cases_multiple</th>\n    </tr>\n  </thead>\n  <tbody>\n    <tr>\n      <th>0</th>\n      <td>1/5/2015</td>\n      <td>289</td>\n      <td>2776.0</td>\n      <td>NaN</td>\n      <td>10030.0</td>\n      <td>NaN</td>\n      <td>NaN</td>\n      <td>NaN</td>\n      <td>NaN</td>\n      <td>NaN</td>\n      <td>1786.0</td>\n      <td>NaN</td>\n      <td>2977.0</td>\n      <td>NaN</td>\n      <td>NaN</td>\n      <td>NaN</td>\n      <td>NaN</td>\n      <td>NaN</td>\n      <td>NaN</td>\n    </tr>\n    <tr>\n      <th>1</th>\n      <td>1/4/2015</td>\n      <td>288</td>\n      <td>2775.0</td>\n      <td>NaN</td>\n      <td>9780.0</td>\n      <td>NaN</td>\n      <td>NaN</td>\n      <td>NaN</td>\n      <td>NaN</td>\n      <td>NaN</td>\n      <td>1781.0</td>\n      <td>NaN</td>\n      <td>2943.0</td>\n      <td>NaN</td>\n      <td>NaN</td>\n      <td>NaN</td>\n      <td>NaN</td>\n      <td>NaN</td>\n      <td>NaN</td>\n    </tr>\n    <tr>\n      <th>2</th>\n      <td>1/3/2015</td>\n      <td>287</td>\n      <td>2769.0</td>\n      <td>8166.0</td>\n      <td>9722.0</td>\n      <td>NaN</td>\n      <td>NaN</td>\n      <td>NaN</td>\n      <td>NaN</td>\n      <td>NaN</td>\n      <td>1767.0</td>\n      <td>3496.0</td>\n      <td>2915.0</td>\n      <td>NaN</td>\n      <td>NaN</td>\n      <td>NaN</td>\n      <td>NaN</td>\n      <td>NaN</td>\n      <td>20657.0</td>\n    </tr>\n    <tr>\n      <th>3</th>\n      <td>1/2/2015</td>\n      <td>286</td>\n      <td>NaN</td>\n      <td>8157.0</td>\n      <td>NaN</td>\n      <td>NaN</td>\n      <td>NaN</td>\n      <td>NaN</td>\n      <td>NaN</td>\n      <td>NaN</td>\n      <td>NaN</td>\n      <td>3496.0</td>\n      <td>NaN</td>\n      <td>NaN</td>\n      <td>NaN</td>\n      <td>NaN</td>\n      <td>NaN</td>\n      <td>NaN</td>\n      <td>NaN</td>\n    </tr>\n    <tr>\n      <th>4</th>\n      <td>12/31/2014</td>\n      <td>284</td>\n      <td>2730.0</td>\n      <td>8115.0</td>\n      <td>9633.0</td>\n      <td>NaN</td>\n      <td>NaN</td>\n      <td>NaN</td>\n      <td>NaN</td>\n      <td>NaN</td>\n      <td>1739.0</td>\n      <td>3471.0</td>\n      <td>2827.0</td>\n      <td>NaN</td>\n      <td>NaN</td>\n      <td>NaN</td>\n      <td>NaN</td>\n      <td>NaN</td>\n      <td>20478.0</td>\n    </tr>\n  </tbody>\n</table>\n</div>"
     },
     "metadata": {},
     "execution_count": 45
    }
   ],
   "source": [
    "ebola.columns\n",
    "#'Cases_Guinea', 'Cases_Liberia', 'Cases_SierraLeone' 더한 값\n",
    "#'Cases_multiple'\n",
    "\n",
    "# ebola.head()\n",
    "# ebola['Cases_multiple'] = ebola['Cases_Guinea'], 'Cases_Liberia', 'Cases_SierraLeone']].sum()\n",
    "# ebola.head()\n",
    "ebola['Cases_multiple'] = ebola['Cases_Guinea'] + ebola['Cases_Liberia'] + ebola['Cases_SierraLeone']\n",
    "ebola.head() #nan이 연산에 들어가면 nan이 된다."
   ]
  },
  {
   "cell_type": "code",
   "execution_count": 46,
   "metadata": {},
   "outputs": [
    {
     "output_type": "execute_result",
     "data": {
      "text/plain": "     Cases_Guinea  Cases_Liberia  Cases_SierraLeone  Cases_multiple\n0          2776.0            NaN            10030.0             NaN\n1          2775.0            NaN             9780.0             NaN\n2          2769.0         8166.0             9722.0         20657.0\n3             NaN         8157.0                NaN             NaN\n4          2730.0         8115.0             9633.0         20478.0\n..            ...            ...                ...             ...\n117         103.0            8.0                6.0           117.0\n118          86.0            NaN                NaN             NaN\n119          86.0            NaN                NaN             NaN\n120          86.0            NaN                NaN             NaN\n121          49.0            NaN                NaN             NaN\n\n[122 rows x 4 columns]",
      "text/html": "<div>\n<style scoped>\n    .dataframe tbody tr th:only-of-type {\n        vertical-align: middle;\n    }\n\n    .dataframe tbody tr th {\n        vertical-align: top;\n    }\n\n    .dataframe thead th {\n        text-align: right;\n    }\n</style>\n<table border=\"1\" class=\"dataframe\">\n  <thead>\n    <tr style=\"text-align: right;\">\n      <th></th>\n      <th>Cases_Guinea</th>\n      <th>Cases_Liberia</th>\n      <th>Cases_SierraLeone</th>\n      <th>Cases_multiple</th>\n    </tr>\n  </thead>\n  <tbody>\n    <tr>\n      <th>0</th>\n      <td>2776.0</td>\n      <td>NaN</td>\n      <td>10030.0</td>\n      <td>NaN</td>\n    </tr>\n    <tr>\n      <th>1</th>\n      <td>2775.0</td>\n      <td>NaN</td>\n      <td>9780.0</td>\n      <td>NaN</td>\n    </tr>\n    <tr>\n      <th>2</th>\n      <td>2769.0</td>\n      <td>8166.0</td>\n      <td>9722.0</td>\n      <td>20657.0</td>\n    </tr>\n    <tr>\n      <th>3</th>\n      <td>NaN</td>\n      <td>8157.0</td>\n      <td>NaN</td>\n      <td>NaN</td>\n    </tr>\n    <tr>\n      <th>4</th>\n      <td>2730.0</td>\n      <td>8115.0</td>\n      <td>9633.0</td>\n      <td>20478.0</td>\n    </tr>\n    <tr>\n      <th>...</th>\n      <td>...</td>\n      <td>...</td>\n      <td>...</td>\n      <td>...</td>\n    </tr>\n    <tr>\n      <th>117</th>\n      <td>103.0</td>\n      <td>8.0</td>\n      <td>6.0</td>\n      <td>117.0</td>\n    </tr>\n    <tr>\n      <th>118</th>\n      <td>86.0</td>\n      <td>NaN</td>\n      <td>NaN</td>\n      <td>NaN</td>\n    </tr>\n    <tr>\n      <th>119</th>\n      <td>86.0</td>\n      <td>NaN</td>\n      <td>NaN</td>\n      <td>NaN</td>\n    </tr>\n    <tr>\n      <th>120</th>\n      <td>86.0</td>\n      <td>NaN</td>\n      <td>NaN</td>\n      <td>NaN</td>\n    </tr>\n    <tr>\n      <th>121</th>\n      <td>49.0</td>\n      <td>NaN</td>\n      <td>NaN</td>\n      <td>NaN</td>\n    </tr>\n  </tbody>\n</table>\n<p>122 rows × 4 columns</p>\n</div>"
     },
     "metadata": {},
     "execution_count": 46
    }
   ],
   "source": [
    "ebola[['Cases_Guinea', 'Cases_Liberia', 'Cases_SierraLeone','Cases_multiple']]\n",
    "ebola.loc[:,['Cases_Guinea', 'Cases_Liberia', 'Cases_SierraLeone','Cases_multiple']] # 결과같음"
   ]
  },
  {
   "cell_type": "code",
   "execution_count": 51,
   "metadata": {},
   "outputs": [
    {
     "output_type": "execute_result",
     "data": {
      "text/plain": "Cases_Guinea    84729.0\ndtype: float64"
     },
     "metadata": {},
     "execution_count": 51
    }
   ],
   "source": [
    "# 'Cases_Guinea'의 합계출력\n",
    "\n",
    "ebola[['Cases_Guinea']].sum() #결과만 나옴\n",
    "ebola[['Cases_Guinea']].sum() #컬럼명과 함께 나옴\n",
    "\n",
    "ebola[['Cases_Guinea']].sum(skipna=True) # skipna=True : default\n",
    "ebola[['Cases_Guinea']].sum(skipna=False) # skipna=True : 연산에 nan이 들어가서 nan이 나옴."
   ]
  },
  {
   "cell_type": "code",
   "execution_count": 53,
   "metadata": {},
   "outputs": [
    {
     "output_type": "execute_result",
     "data": {
      "text/plain": "                   religion  <$10k  $10-20k  $20-30k  $30-40k  $40-50k  \\\n0                  Agnostic     27       34       60       81       76   \n1                   Atheist     12       27       37       52       35   \n2                  Buddhist     27       21       30       34       33   \n3                  Catholic    418      617      732      670      638   \n4        Don’t know/refused     15       14       15       11       10   \n5          Evangelical Prot    575      869     1064      982      881   \n6                     Hindu      1        9        7        9       11   \n7   Historically Black Prot    228      244      236      238      197   \n8         Jehovah's Witness     20       27       24       24       21   \n9                    Jewish     19       19       25       25       30   \n10            Mainline Prot    289      495      619      655      651   \n11                   Mormon     29       40       48       51       56   \n12                   Muslim      6        7        9       10        9   \n13                 Orthodox     13       17       23       32       32   \n14          Other Christian      9        7       11       13       13   \n15             Other Faiths     20       33       40       46       49   \n16    Other World Religions      5        2        3        4        2   \n17             Unaffiliated    217      299      374      365      341   \n\n    $50-75k  $75-100k  $100-150k  >150k  Don't know/refused  \n0       137       122        109     84                  96  \n1        70        73         59     74                  76  \n2        58        62         39     53                  54  \n3      1116       949        792    633                1489  \n4        35        21         17     18                 116  \n5      1486       949        723    414                1529  \n6        34        47         48     54                  37  \n7       223       131         81     78                 339  \n8        30        15         11      6                  37  \n9        95        69         87    151                 162  \n10     1107       939        753    634                1328  \n11      112        85         49     42                  69  \n12       23        16          8      6                  22  \n13       47        38         42     46                  73  \n14       14        18         14     12                  18  \n15       63        46         40     41                  71  \n16        7         3          4      4                   8  \n17      528       407        321    258                 597  ",
      "text/html": "<div>\n<style scoped>\n    .dataframe tbody tr th:only-of-type {\n        vertical-align: middle;\n    }\n\n    .dataframe tbody tr th {\n        vertical-align: top;\n    }\n\n    .dataframe thead th {\n        text-align: right;\n    }\n</style>\n<table border=\"1\" class=\"dataframe\">\n  <thead>\n    <tr style=\"text-align: right;\">\n      <th></th>\n      <th>religion</th>\n      <th>&lt;$10k</th>\n      <th>$10-20k</th>\n      <th>$20-30k</th>\n      <th>$30-40k</th>\n      <th>$40-50k</th>\n      <th>$50-75k</th>\n      <th>$75-100k</th>\n      <th>$100-150k</th>\n      <th>&gt;150k</th>\n      <th>Don't know/refused</th>\n    </tr>\n  </thead>\n  <tbody>\n    <tr>\n      <th>0</th>\n      <td>Agnostic</td>\n      <td>27</td>\n      <td>34</td>\n      <td>60</td>\n      <td>81</td>\n      <td>76</td>\n      <td>137</td>\n      <td>122</td>\n      <td>109</td>\n      <td>84</td>\n      <td>96</td>\n    </tr>\n    <tr>\n      <th>1</th>\n      <td>Atheist</td>\n      <td>12</td>\n      <td>27</td>\n      <td>37</td>\n      <td>52</td>\n      <td>35</td>\n      <td>70</td>\n      <td>73</td>\n      <td>59</td>\n      <td>74</td>\n      <td>76</td>\n    </tr>\n    <tr>\n      <th>2</th>\n      <td>Buddhist</td>\n      <td>27</td>\n      <td>21</td>\n      <td>30</td>\n      <td>34</td>\n      <td>33</td>\n      <td>58</td>\n      <td>62</td>\n      <td>39</td>\n      <td>53</td>\n      <td>54</td>\n    </tr>\n    <tr>\n      <th>3</th>\n      <td>Catholic</td>\n      <td>418</td>\n      <td>617</td>\n      <td>732</td>\n      <td>670</td>\n      <td>638</td>\n      <td>1116</td>\n      <td>949</td>\n      <td>792</td>\n      <td>633</td>\n      <td>1489</td>\n    </tr>\n    <tr>\n      <th>4</th>\n      <td>Don’t know/refused</td>\n      <td>15</td>\n      <td>14</td>\n      <td>15</td>\n      <td>11</td>\n      <td>10</td>\n      <td>35</td>\n      <td>21</td>\n      <td>17</td>\n      <td>18</td>\n      <td>116</td>\n    </tr>\n    <tr>\n      <th>5</th>\n      <td>Evangelical Prot</td>\n      <td>575</td>\n      <td>869</td>\n      <td>1064</td>\n      <td>982</td>\n      <td>881</td>\n      <td>1486</td>\n      <td>949</td>\n      <td>723</td>\n      <td>414</td>\n      <td>1529</td>\n    </tr>\n    <tr>\n      <th>6</th>\n      <td>Hindu</td>\n      <td>1</td>\n      <td>9</td>\n      <td>7</td>\n      <td>9</td>\n      <td>11</td>\n      <td>34</td>\n      <td>47</td>\n      <td>48</td>\n      <td>54</td>\n      <td>37</td>\n    </tr>\n    <tr>\n      <th>7</th>\n      <td>Historically Black Prot</td>\n      <td>228</td>\n      <td>244</td>\n      <td>236</td>\n      <td>238</td>\n      <td>197</td>\n      <td>223</td>\n      <td>131</td>\n      <td>81</td>\n      <td>78</td>\n      <td>339</td>\n    </tr>\n    <tr>\n      <th>8</th>\n      <td>Jehovah's Witness</td>\n      <td>20</td>\n      <td>27</td>\n      <td>24</td>\n      <td>24</td>\n      <td>21</td>\n      <td>30</td>\n      <td>15</td>\n      <td>11</td>\n      <td>6</td>\n      <td>37</td>\n    </tr>\n    <tr>\n      <th>9</th>\n      <td>Jewish</td>\n      <td>19</td>\n      <td>19</td>\n      <td>25</td>\n      <td>25</td>\n      <td>30</td>\n      <td>95</td>\n      <td>69</td>\n      <td>87</td>\n      <td>151</td>\n      <td>162</td>\n    </tr>\n    <tr>\n      <th>10</th>\n      <td>Mainline Prot</td>\n      <td>289</td>\n      <td>495</td>\n      <td>619</td>\n      <td>655</td>\n      <td>651</td>\n      <td>1107</td>\n      <td>939</td>\n      <td>753</td>\n      <td>634</td>\n      <td>1328</td>\n    </tr>\n    <tr>\n      <th>11</th>\n      <td>Mormon</td>\n      <td>29</td>\n      <td>40</td>\n      <td>48</td>\n      <td>51</td>\n      <td>56</td>\n      <td>112</td>\n      <td>85</td>\n      <td>49</td>\n      <td>42</td>\n      <td>69</td>\n    </tr>\n    <tr>\n      <th>12</th>\n      <td>Muslim</td>\n      <td>6</td>\n      <td>7</td>\n      <td>9</td>\n      <td>10</td>\n      <td>9</td>\n      <td>23</td>\n      <td>16</td>\n      <td>8</td>\n      <td>6</td>\n      <td>22</td>\n    </tr>\n    <tr>\n      <th>13</th>\n      <td>Orthodox</td>\n      <td>13</td>\n      <td>17</td>\n      <td>23</td>\n      <td>32</td>\n      <td>32</td>\n      <td>47</td>\n      <td>38</td>\n      <td>42</td>\n      <td>46</td>\n      <td>73</td>\n    </tr>\n    <tr>\n      <th>14</th>\n      <td>Other Christian</td>\n      <td>9</td>\n      <td>7</td>\n      <td>11</td>\n      <td>13</td>\n      <td>13</td>\n      <td>14</td>\n      <td>18</td>\n      <td>14</td>\n      <td>12</td>\n      <td>18</td>\n    </tr>\n    <tr>\n      <th>15</th>\n      <td>Other Faiths</td>\n      <td>20</td>\n      <td>33</td>\n      <td>40</td>\n      <td>46</td>\n      <td>49</td>\n      <td>63</td>\n      <td>46</td>\n      <td>40</td>\n      <td>41</td>\n      <td>71</td>\n    </tr>\n    <tr>\n      <th>16</th>\n      <td>Other World Religions</td>\n      <td>5</td>\n      <td>2</td>\n      <td>3</td>\n      <td>4</td>\n      <td>2</td>\n      <td>7</td>\n      <td>3</td>\n      <td>4</td>\n      <td>4</td>\n      <td>8</td>\n    </tr>\n    <tr>\n      <th>17</th>\n      <td>Unaffiliated</td>\n      <td>217</td>\n      <td>299</td>\n      <td>374</td>\n      <td>365</td>\n      <td>341</td>\n      <td>528</td>\n      <td>407</td>\n      <td>321</td>\n      <td>258</td>\n      <td>597</td>\n    </tr>\n  </tbody>\n</table>\n</div>"
     },
     "metadata": {},
     "execution_count": 53
    }
   ],
   "source": [
    "pew = pd.read_csv(\"../data2/pew.csv\")\n",
    "pew"
   ]
  },
  {
   "cell_type": "code",
   "execution_count": 55,
   "metadata": {},
   "outputs": [
    {
     "output_type": "execute_result",
     "data": {
      "text/plain": "                  religion              income  count\n0                 Agnostic               <$10k     27\n1                  Atheist               <$10k     12\n2                 Buddhist               <$10k     27\n3                 Catholic               <$10k    418\n4       Don’t know/refused               <$10k     15\n..                     ...                 ...    ...\n175               Orthodox  Don't know/refused     73\n176        Other Christian  Don't know/refused     18\n177           Other Faiths  Don't know/refused     71\n178  Other World Religions  Don't know/refused      8\n179           Unaffiliated  Don't know/refused    597\n\n[180 rows x 3 columns]",
      "text/html": "<div>\n<style scoped>\n    .dataframe tbody tr th:only-of-type {\n        vertical-align: middle;\n    }\n\n    .dataframe tbody tr th {\n        vertical-align: top;\n    }\n\n    .dataframe thead th {\n        text-align: right;\n    }\n</style>\n<table border=\"1\" class=\"dataframe\">\n  <thead>\n    <tr style=\"text-align: right;\">\n      <th></th>\n      <th>religion</th>\n      <th>income</th>\n      <th>count</th>\n    </tr>\n  </thead>\n  <tbody>\n    <tr>\n      <th>0</th>\n      <td>Agnostic</td>\n      <td>&lt;$10k</td>\n      <td>27</td>\n    </tr>\n    <tr>\n      <th>1</th>\n      <td>Atheist</td>\n      <td>&lt;$10k</td>\n      <td>12</td>\n    </tr>\n    <tr>\n      <th>2</th>\n      <td>Buddhist</td>\n      <td>&lt;$10k</td>\n      <td>27</td>\n    </tr>\n    <tr>\n      <th>3</th>\n      <td>Catholic</td>\n      <td>&lt;$10k</td>\n      <td>418</td>\n    </tr>\n    <tr>\n      <th>4</th>\n      <td>Don’t know/refused</td>\n      <td>&lt;$10k</td>\n      <td>15</td>\n    </tr>\n    <tr>\n      <th>...</th>\n      <td>...</td>\n      <td>...</td>\n      <td>...</td>\n    </tr>\n    <tr>\n      <th>175</th>\n      <td>Orthodox</td>\n      <td>Don't know/refused</td>\n      <td>73</td>\n    </tr>\n    <tr>\n      <th>176</th>\n      <td>Other Christian</td>\n      <td>Don't know/refused</td>\n      <td>18</td>\n    </tr>\n    <tr>\n      <th>177</th>\n      <td>Other Faiths</td>\n      <td>Don't know/refused</td>\n      <td>71</td>\n    </tr>\n    <tr>\n      <th>178</th>\n      <td>Other World Religions</td>\n      <td>Don't know/refused</td>\n      <td>8</td>\n    </tr>\n    <tr>\n      <th>179</th>\n      <td>Unaffiliated</td>\n      <td>Don't know/refused</td>\n      <td>597</td>\n    </tr>\n  </tbody>\n</table>\n<p>180 rows × 3 columns</p>\n</div>"
     },
     "metadata": {},
     "execution_count": 55
    }
   ],
   "source": [
    "pl = pd.melt(pew, id_vars='religion', var_name='income', value_name='count')\n",
    "pl"
   ]
  },
  {
   "cell_type": "code",
   "execution_count": 57,
   "metadata": {},
   "outputs": [
    {
     "output_type": "execute_result",
     "data": {
      "text/plain": "   year        artist                    track  time date.entered  wk1   wk2  \\\n0  2000         2 Pac  Baby Don't Cry (Keep...  4:22   2000-02-26   87  82.0   \n1  2000       2Ge+her  The Hardest Part Of ...  3:15   2000-09-02   91  87.0   \n2  2000  3 Doors Down               Kryptonite  3:53   2000-04-08   81  70.0   \n3  2000  3 Doors Down                    Loser  4:24   2000-10-21   76  76.0   \n4  2000      504 Boyz            Wobble Wobble  3:35   2000-04-15   57  34.0   \n\n    wk3   wk4   wk5  ...  wk67  wk68  wk69  wk70  wk71  wk72  wk73  wk74  \\\n0  72.0  77.0  87.0  ...   NaN   NaN   NaN   NaN   NaN   NaN   NaN   NaN   \n1  92.0   NaN   NaN  ...   NaN   NaN   NaN   NaN   NaN   NaN   NaN   NaN   \n2  68.0  67.0  66.0  ...   NaN   NaN   NaN   NaN   NaN   NaN   NaN   NaN   \n3  72.0  69.0  67.0  ...   NaN   NaN   NaN   NaN   NaN   NaN   NaN   NaN   \n4  25.0  17.0  17.0  ...   NaN   NaN   NaN   NaN   NaN   NaN   NaN   NaN   \n\n   wk75  wk76  \n0   NaN   NaN  \n1   NaN   NaN  \n2   NaN   NaN  \n3   NaN   NaN  \n4   NaN   NaN  \n\n[5 rows x 81 columns]",
      "text/html": "<div>\n<style scoped>\n    .dataframe tbody tr th:only-of-type {\n        vertical-align: middle;\n    }\n\n    .dataframe tbody tr th {\n        vertical-align: top;\n    }\n\n    .dataframe thead th {\n        text-align: right;\n    }\n</style>\n<table border=\"1\" class=\"dataframe\">\n  <thead>\n    <tr style=\"text-align: right;\">\n      <th></th>\n      <th>year</th>\n      <th>artist</th>\n      <th>track</th>\n      <th>time</th>\n      <th>date.entered</th>\n      <th>wk1</th>\n      <th>wk2</th>\n      <th>wk3</th>\n      <th>wk4</th>\n      <th>wk5</th>\n      <th>...</th>\n      <th>wk67</th>\n      <th>wk68</th>\n      <th>wk69</th>\n      <th>wk70</th>\n      <th>wk71</th>\n      <th>wk72</th>\n      <th>wk73</th>\n      <th>wk74</th>\n      <th>wk75</th>\n      <th>wk76</th>\n    </tr>\n  </thead>\n  <tbody>\n    <tr>\n      <th>0</th>\n      <td>2000</td>\n      <td>2 Pac</td>\n      <td>Baby Don't Cry (Keep...</td>\n      <td>4:22</td>\n      <td>2000-02-26</td>\n      <td>87</td>\n      <td>82.0</td>\n      <td>72.0</td>\n      <td>77.0</td>\n      <td>87.0</td>\n      <td>...</td>\n      <td>NaN</td>\n      <td>NaN</td>\n      <td>NaN</td>\n      <td>NaN</td>\n      <td>NaN</td>\n      <td>NaN</td>\n      <td>NaN</td>\n      <td>NaN</td>\n      <td>NaN</td>\n      <td>NaN</td>\n    </tr>\n    <tr>\n      <th>1</th>\n      <td>2000</td>\n      <td>2Ge+her</td>\n      <td>The Hardest Part Of ...</td>\n      <td>3:15</td>\n      <td>2000-09-02</td>\n      <td>91</td>\n      <td>87.0</td>\n      <td>92.0</td>\n      <td>NaN</td>\n      <td>NaN</td>\n      <td>...</td>\n      <td>NaN</td>\n      <td>NaN</td>\n      <td>NaN</td>\n      <td>NaN</td>\n      <td>NaN</td>\n      <td>NaN</td>\n      <td>NaN</td>\n      <td>NaN</td>\n      <td>NaN</td>\n      <td>NaN</td>\n    </tr>\n    <tr>\n      <th>2</th>\n      <td>2000</td>\n      <td>3 Doors Down</td>\n      <td>Kryptonite</td>\n      <td>3:53</td>\n      <td>2000-04-08</td>\n      <td>81</td>\n      <td>70.0</td>\n      <td>68.0</td>\n      <td>67.0</td>\n      <td>66.0</td>\n      <td>...</td>\n      <td>NaN</td>\n      <td>NaN</td>\n      <td>NaN</td>\n      <td>NaN</td>\n      <td>NaN</td>\n      <td>NaN</td>\n      <td>NaN</td>\n      <td>NaN</td>\n      <td>NaN</td>\n      <td>NaN</td>\n    </tr>\n    <tr>\n      <th>3</th>\n      <td>2000</td>\n      <td>3 Doors Down</td>\n      <td>Loser</td>\n      <td>4:24</td>\n      <td>2000-10-21</td>\n      <td>76</td>\n      <td>76.0</td>\n      <td>72.0</td>\n      <td>69.0</td>\n      <td>67.0</td>\n      <td>...</td>\n      <td>NaN</td>\n      <td>NaN</td>\n      <td>NaN</td>\n      <td>NaN</td>\n      <td>NaN</td>\n      <td>NaN</td>\n      <td>NaN</td>\n      <td>NaN</td>\n      <td>NaN</td>\n      <td>NaN</td>\n    </tr>\n    <tr>\n      <th>4</th>\n      <td>2000</td>\n      <td>504 Boyz</td>\n      <td>Wobble Wobble</td>\n      <td>3:35</td>\n      <td>2000-04-15</td>\n      <td>57</td>\n      <td>34.0</td>\n      <td>25.0</td>\n      <td>17.0</td>\n      <td>17.0</td>\n      <td>...</td>\n      <td>NaN</td>\n      <td>NaN</td>\n      <td>NaN</td>\n      <td>NaN</td>\n      <td>NaN</td>\n      <td>NaN</td>\n      <td>NaN</td>\n      <td>NaN</td>\n      <td>NaN</td>\n      <td>NaN</td>\n    </tr>\n  </tbody>\n</table>\n<p>5 rows × 81 columns</p>\n</div>"
     },
     "metadata": {},
     "execution_count": 57
    }
   ],
   "source": [
    "bb = pd.read_csv(\"../data2/billboard.csv\")\n",
    "bb.head()"
   ]
  },
  {
   "cell_type": "code",
   "execution_count": 59,
   "metadata": {},
   "outputs": [
    {
     "output_type": "execute_result",
     "data": {
      "text/plain": "       year            artist                    track  time date.entered  \\\n0      2000             2 Pac  Baby Don't Cry (Keep...  4:22   2000-02-26   \n1      2000           2Ge+her  The Hardest Part Of ...  3:15   2000-09-02   \n2      2000      3 Doors Down               Kryptonite  3:53   2000-04-08   \n3      2000      3 Doors Down                    Loser  4:24   2000-10-21   \n4      2000          504 Boyz            Wobble Wobble  3:35   2000-04-15   \n...     ...               ...                      ...   ...          ...   \n24087  2000       Yankee Grey     Another Nine Minutes  3:10   2000-04-29   \n24088  2000  Yearwood, Trisha          Real Live Woman  3:55   2000-04-01   \n24089  2000   Ying Yang Twins  Whistle While You Tw...  4:19   2000-03-18   \n24090  2000     Zombie Nation            Kernkraft 400  3:30   2000-09-02   \n24091  2000   matchbox twenty                     Bent  4:12   2000-04-29   \n\n       week  rank  \n0       wk1  87.0  \n1       wk1  91.0  \n2       wk1  81.0  \n3       wk1  76.0  \n4       wk1  57.0  \n...     ...   ...  \n24087  wk76   NaN  \n24088  wk76   NaN  \n24089  wk76   NaN  \n24090  wk76   NaN  \n24091  wk76   NaN  \n\n[24092 rows x 7 columns]",
      "text/html": "<div>\n<style scoped>\n    .dataframe tbody tr th:only-of-type {\n        vertical-align: middle;\n    }\n\n    .dataframe tbody tr th {\n        vertical-align: top;\n    }\n\n    .dataframe thead th {\n        text-align: right;\n    }\n</style>\n<table border=\"1\" class=\"dataframe\">\n  <thead>\n    <tr style=\"text-align: right;\">\n      <th></th>\n      <th>year</th>\n      <th>artist</th>\n      <th>track</th>\n      <th>time</th>\n      <th>date.entered</th>\n      <th>week</th>\n      <th>rank</th>\n    </tr>\n  </thead>\n  <tbody>\n    <tr>\n      <th>0</th>\n      <td>2000</td>\n      <td>2 Pac</td>\n      <td>Baby Don't Cry (Keep...</td>\n      <td>4:22</td>\n      <td>2000-02-26</td>\n      <td>wk1</td>\n      <td>87.0</td>\n    </tr>\n    <tr>\n      <th>1</th>\n      <td>2000</td>\n      <td>2Ge+her</td>\n      <td>The Hardest Part Of ...</td>\n      <td>3:15</td>\n      <td>2000-09-02</td>\n      <td>wk1</td>\n      <td>91.0</td>\n    </tr>\n    <tr>\n      <th>2</th>\n      <td>2000</td>\n      <td>3 Doors Down</td>\n      <td>Kryptonite</td>\n      <td>3:53</td>\n      <td>2000-04-08</td>\n      <td>wk1</td>\n      <td>81.0</td>\n    </tr>\n    <tr>\n      <th>3</th>\n      <td>2000</td>\n      <td>3 Doors Down</td>\n      <td>Loser</td>\n      <td>4:24</td>\n      <td>2000-10-21</td>\n      <td>wk1</td>\n      <td>76.0</td>\n    </tr>\n    <tr>\n      <th>4</th>\n      <td>2000</td>\n      <td>504 Boyz</td>\n      <td>Wobble Wobble</td>\n      <td>3:35</td>\n      <td>2000-04-15</td>\n      <td>wk1</td>\n      <td>57.0</td>\n    </tr>\n    <tr>\n      <th>...</th>\n      <td>...</td>\n      <td>...</td>\n      <td>...</td>\n      <td>...</td>\n      <td>...</td>\n      <td>...</td>\n      <td>...</td>\n    </tr>\n    <tr>\n      <th>24087</th>\n      <td>2000</td>\n      <td>Yankee Grey</td>\n      <td>Another Nine Minutes</td>\n      <td>3:10</td>\n      <td>2000-04-29</td>\n      <td>wk76</td>\n      <td>NaN</td>\n    </tr>\n    <tr>\n      <th>24088</th>\n      <td>2000</td>\n      <td>Yearwood, Trisha</td>\n      <td>Real Live Woman</td>\n      <td>3:55</td>\n      <td>2000-04-01</td>\n      <td>wk76</td>\n      <td>NaN</td>\n    </tr>\n    <tr>\n      <th>24089</th>\n      <td>2000</td>\n      <td>Ying Yang Twins</td>\n      <td>Whistle While You Tw...</td>\n      <td>4:19</td>\n      <td>2000-03-18</td>\n      <td>wk76</td>\n      <td>NaN</td>\n    </tr>\n    <tr>\n      <th>24090</th>\n      <td>2000</td>\n      <td>Zombie Nation</td>\n      <td>Kernkraft 400</td>\n      <td>3:30</td>\n      <td>2000-09-02</td>\n      <td>wk76</td>\n      <td>NaN</td>\n    </tr>\n    <tr>\n      <th>24091</th>\n      <td>2000</td>\n      <td>matchbox twenty</td>\n      <td>Bent</td>\n      <td>4:12</td>\n      <td>2000-04-29</td>\n      <td>wk76</td>\n      <td>NaN</td>\n    </tr>\n  </tbody>\n</table>\n<p>24092 rows × 7 columns</p>\n</div>"
     },
     "metadata": {},
     "execution_count": 59
    }
   ],
   "source": [
    "pd.melt(bb,id_vars=['year','artist','track','time','date.entered']) #여러컬럼을 고정\n",
    "pd.melt(bb,id_vars=['year','artist','track','time','date.entered'], var_name='week', value_name='rank') #여러컬럼을 고정\n"
   ]
  }
 ],
 "metadata": {
  "language_info": {
   "codemirror_mode": {
    "name": "ipython",
    "version": 3
   },
   "file_extension": ".py",
   "mimetype": "text/x-python",
   "name": "python",
   "nbconvert_exporter": "python",
   "pygments_lexer": "ipython3",
   "version": "3.7.7-final"
  },
  "orig_nbformat": 2,
  "kernelspec": {
   "name": "python37764bit1304f9f95d054c62806119c5c6868c9e",
   "display_name": "Python 3.7.7 64-bit"
  }
 },
 "nbformat": 4,
 "nbformat_minor": 2
}